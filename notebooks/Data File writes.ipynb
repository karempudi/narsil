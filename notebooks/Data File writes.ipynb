{
 "cells": [
  {
   "cell_type": "code",
   "execution_count": 1,
   "id": "1eb1d811",
   "metadata": {},
   "outputs": [],
   "source": [
    "%reload_ext autoreload\n",
    "%autoreload 2\n",
    "%matplotlib qt5\n"
   ]
  },
  {
   "cell_type": "code",
   "execution_count": 2,
   "id": "fba78a68",
   "metadata": {},
   "outputs": [],
   "source": [
    "import h5py\n",
    "import numpy as np\n",
    "from skimage import io\n",
    "from scipy.signal import find_peaks\n",
    "import matplotlib.pyplot as plt"
   ]
  },
  {
   "cell_type": "code",
   "execution_count": 3,
   "id": "0c45c92a",
   "metadata": {},
   "outputs": [],
   "source": [
    "f = h5py.File('/home/pk/Documents/test.hdf5', 'r') "
   ]
  },
  {
   "cell_type": "code",
   "execution_count": 6,
   "id": "584b4108",
   "metadata": {},
   "outputs": [
    {
     "data": {
      "text/plain": [
       "array([[0., 0., 0., ..., 0., 0., 0.],\n",
       "       [0., 0., 0., ..., 0., 0., 0.],\n",
       "       [0., 0., 0., ..., 0., 0., 0.],\n",
       "       ...,\n",
       "       [0., 0., 0., ..., 0., 0., 0.],\n",
       "       [0., 0., 0., ..., 0., 0., 0.],\n",
       "       [0., 0., 0., ..., 0., 0., 0.]], dtype=float16)"
      ]
     },
     "execution_count": 6,
     "metadata": {},
     "output_type": "execute_result"
    }
   ],
   "source": [
    "f['stack'][1]"
   ]
  },
  {
   "cell_type": "code",
   "execution_count": 11,
   "id": "94547219",
   "metadata": {},
   "outputs": [
    {
     "data": {
      "text/plain": [
       "<HDF5 dataset \"stack\": shape (100, 1504, 36), type \"<f2\">"
      ]
     },
     "execution_count": 11,
     "metadata": {},
     "output_type": "execute_result"
    }
   ],
   "source": [
    "f.create_dataset(\"stack\", (100, 1504, 36), dtype='float16', compression='gzip')"
   ]
  },
  {
   "cell_type": "code",
   "execution_count": 12,
   "id": "25cedd04",
   "metadata": {},
   "outputs": [
    {
     "data": {
      "text/plain": [
       "array([[0., 0., 0., ..., 0., 0., 0.],\n",
       "       [0., 0., 0., ..., 0., 0., 0.],\n",
       "       [0., 0., 0., ..., 0., 0., 0.],\n",
       "       ...,\n",
       "       [0., 0., 0., ..., 0., 0., 0.],\n",
       "       [0., 0., 0., ..., 0., 0., 0.],\n",
       "       [0., 0., 0., ..., 0., 0., 0.]], dtype=float16)"
      ]
     },
     "execution_count": 12,
     "metadata": {},
     "output_type": "execute_result"
    }
   ],
   "source": [
    "f['stack'][10]"
   ]
  },
  {
   "cell_type": "code",
   "execution_count": 24,
   "id": "f39e131c",
   "metadata": {},
   "outputs": [],
   "source": [
    "with h5py.File('/home/pk/Documents/test.hdf5', 'r') as f:\n",
    "    f['stack'][10] = np.random.randn(1504, 36)"
   ]
  },
  {
   "cell_type": "code",
   "execution_count": null,
   "id": "ff5aef75",
   "metadata": {},
   "outputs": [],
   "source": [
    "f['stack']"
   ]
  },
  {
   "cell_type": "code",
   "execution_count": null,
   "id": "ce9737de",
   "metadata": {},
   "outputs": [],
   "source": []
  },
  {
   "cell_type": "code",
   "execution_count": 3,
   "id": "7c434a31",
   "metadata": {},
   "outputs": [],
   "source": [
    "def findBarcodesAndChannels(image, parameters = { 'minChannelLength': 200, 'minPeaksDistance' : 25, \n",
    "                    'barcodeWidth' : 48, 'channelsPerBlock': 21, 'plateauSize':15}):\n",
    "    \n",
    "    hist = np.sum(image, axis = 0) > parameters['minChannelLength']\n",
    "\n",
    "    peaks, _ = find_peaks(hist, distance=parameters['minPeaksDistance'], plateau_size=parameters['plateauSize'])\n",
    "    \n",
    "    indices_with_larger_gaps = np.where(np.ediff1d(peaks) > parameters['barcodeWidth'])[0]\n",
    "    \n",
    "    locations_before_barcode = peaks[indices_with_larger_gaps]\n",
    "    locations_after_barcode = peaks[indices_with_larger_gaps + 1]\n",
    "    \n",
    "    locations_barcode = np.rint(np.mean((locations_before_barcode,\n",
    "                                        locations_after_barcode), axis = 0)).astype('int')\n",
    "    \n",
    "    num_barcodes = len(locations_barcode)\n",
    "    # there are 5 barcodes seen in the image\n",
    "    if num_barcodes == 5:\n",
    "        # count the number of channels before the first barcode and after the \n",
    "        # last barcode and include them upto numChannels channels\n",
    "        y_channels = []\n",
    "        \n",
    "        # channels before first barcode\n",
    "        indices_before_first = np.where(peaks < locations_barcode[0])[0]\n",
    "        y_channels.extend(list(peaks[indices_before_first]))\n",
    "        \n",
    "        for i in range(num_barcodes):\n",
    "            indices = np.where(np.logical_and(peaks > locations_barcode[i-1],\n",
    "                                             peaks < locations_barcode[i]))[0]\n",
    "            y_channels.extend(list(peaks[indices]))\n",
    "            \n",
    "        # number of channels to count after the last\n",
    "        number_to_include = parameters['channelsPerBlock'] - len(indices_before_first)\n",
    "        indices_after_last = np.where(peaks > locations_barcode[-1])[0]\n",
    "        y_channels.extend(list(peaks[indices_after_last][:number_to_include]))\n",
    "        \n",
    "    elif num_barcodes == 6:\n",
    "        y_channels = []\n",
    "        # count only the channels between barcodes and \n",
    "        # grab the (x, y) locations to cut,\n",
    "        # x will be the top of the channel, row number\n",
    "        # y will be the peak picked up in the histogram, between the barcodes\n",
    "        # count 21 channels after calculating\n",
    "        for i in range(num_barcodes):\n",
    "            indices = np.where(np.logical_and(peaks > locations_barcode[i-1],\n",
    "                                             peaks < locations_barcode[i]))[0]\n",
    "            #if len(indices) == 21:\n",
    "            # all good pick them up\n",
    "            y_channels.extend(list(peaks[indices]))   \n",
    "        \n",
    "    else:\n",
    "        # detection failure, since it is ambiguous skipp the position\n",
    "        y_channels = []\n",
    "        sys.stdout.write(f\"Detection failure, {num_barcodes} detected\\n\")\n",
    "        sys.stdout.flush()\n",
    "    # locations of the barcode and locations of channels to cut.\n",
    "    return locations_barcode, y_channels"
   ]
  },
  {
   "cell_type": "code",
   "execution_count": 4,
   "id": "ba2a4ba1",
   "metadata": {},
   "outputs": [],
   "source": [
    "i = 0\n",
    "channelSegImageFile = '/home/pk/Documents/realtimeData/newAnalysisData/1/channelSegmentation/0.tiff'\n",
    "channelSegImage = io.imread(channelSegImageFile)\n",
    "locations_barcode, locations_channels = findBarcodesAndChannels(channelSegImage)\n",
    "phaseFilename = '/home/pk/Documents/realtimeData/newAnalysisData/1/phaseFullImage/' + str(i) + '.tiff'\n",
    "phaseImg = io.imread(phaseFilename)"
   ]
  },
  {
   "cell_type": "code",
   "execution_count": 12,
   "id": "7bbb20fc",
   "metadata": {},
   "outputs": [],
   "source": [
    "saveDir = '/home/pk/Documents/realtimeData/newAnalysisData/2/oneMMChannelPhase/'\n",
    "\n",
    "\n",
    "for i, location in enumerate(locations_channels,0):\n",
    "    filename = saveDir + str(i)\n",
    "    with h5py.File(saveDir + str(i) + '.hdf5', 'w') as f:\n",
    "        f.create_dataset(\"channels\", (400, 1504, 36), dtype='float16', compression='gzip')\n",
    "        f['channels'][0] = phaseImg[:, \n",
    "                                          location - 18 : location + 18]"
   ]
  },
  {
   "cell_type": "code",
   "execution_count": 13,
   "id": "9c968c41",
   "metadata": {},
   "outputs": [],
   "source": [
    "with h5py.File(saveDir + '0.hdf5', 'w') as f:\n",
    "    "
   ]
  },
  {
   "cell_type": "code",
   "execution_count": 7,
   "id": "1bbe6073",
   "metadata": {},
   "outputs": [
    {
     "data": {
      "text/plain": [
       "<matplotlib.image.AxesImage at 0x7fc5ec4353d0>"
      ]
     },
     "execution_count": 7,
     "metadata": {},
     "output_type": "execute_result"
    }
   ],
   "source": [
    "plt.imshow(data.astype('float32'))"
   ]
  },
  {
   "cell_type": "code",
   "execution_count": 8,
   "id": "2acbf500",
   "metadata": {},
   "outputs": [
    {
     "data": {
      "text/plain": [
       "'/home/pk/Documents/realtimeData/newAnalysisData/1/phaseFullImage/0.tiff'"
      ]
     },
     "execution_count": 8,
     "metadata": {},
     "output_type": "execute_result"
    }
   ],
   "source": [
    "phaseFilename"
   ]
  },
  {
   "cell_type": "code",
   "execution_count": 9,
   "id": "33d91bb6",
   "metadata": {},
   "outputs": [],
   "source": [
    "phaseImage = io.imread(phaseFilename)"
   ]
  },
  {
   "cell_type": "code",
   "execution_count": 10,
   "id": "3764cbad",
   "metadata": {},
   "outputs": [
    {
     "data": {
      "text/plain": [
       "dtype('float16')"
      ]
     },
     "execution_count": 10,
     "metadata": {},
     "output_type": "execute_result"
    }
   ],
   "source": [
    "phaseImage.dtype"
   ]
  },
  {
   "cell_type": "code",
   "execution_count": 11,
   "id": "ea721b82",
   "metadata": {},
   "outputs": [
    {
     "data": {
      "text/plain": [
       "<matplotlib.image.AxesImage at 0x7fc5e920d1f0>"
      ]
     },
     "execution_count": 11,
     "metadata": {},
     "output_type": "execute_result"
    }
   ],
   "source": [
    "plt.imshow(phaseImage.astype('float32'))"
   ]
  },
  {
   "cell_type": "code",
   "execution_count": 22,
   "id": "13cb9373",
   "metadata": {},
   "outputs": [],
   "source": [
    "f = h5py.File('/home/pk/Documents/realtimeData/newAnalysisData/4/oneMMChannelCellSeg/0.hdf5', 'r')"
   ]
  },
  {
   "cell_type": "code",
   "execution_count": 25,
   "id": "69f5d783",
   "metadata": {},
   "outputs": [
    {
     "data": {
      "text/plain": [
       "[]"
      ]
     },
     "execution_count": 25,
     "metadata": {},
     "output_type": "execute_result"
    }
   ],
   "source": [
    "list(f.keys())"
   ]
  },
  {
   "cell_type": "code",
   "execution_count": null,
   "id": "3c66854a",
   "metadata": {},
   "outputs": [],
   "source": [
    "f"
   ]
  }
 ],
 "metadata": {
  "kernelspec": {
   "display_name": "Python 3 (ipykernel)",
   "language": "python",
   "name": "python3"
  },
  "language_info": {
   "codemirror_mode": {
    "name": "ipython",
    "version": 3
   },
   "file_extension": ".py",
   "mimetype": "text/x-python",
   "name": "python",
   "nbconvert_exporter": "python",
   "pygments_lexer": "ipython3",
   "version": "3.9.7"
  }
 },
 "nbformat": 4,
 "nbformat_minor": 5
}
