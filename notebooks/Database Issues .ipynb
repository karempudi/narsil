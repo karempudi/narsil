{
 "cells": [
  {
   "cell_type": "code",
   "execution_count": 1,
   "id": "ad686eaa",
   "metadata": {},
   "outputs": [],
   "source": [
    "%reload_ext autoreload\n",
    "%autoreload 2\n",
    "%matplotlib qt5"
   ]
  },
  {
   "cell_type": "code",
   "execution_count": 2,
   "id": "5eb3e735",
   "metadata": {},
   "outputs": [],
   "source": [
    "import numpy as np\n",
    "import pickle\n",
    "import psycopg2 as pg"
   ]
  },
  {
   "cell_type": "markdown",
   "id": "bd773526",
   "metadata": {},
   "source": [
    " (id SERIAL PRIMARY KEY, time TIMESTAMP, position INT, timepoint INT, \n",
    "                            channelno INT, areas BYTEA, lengths BYTEA, numobjects BYTEA)"
   ]
  },
  {
   "cell_type": "code",
   "execution_count": 11,
   "id": "9e9c6eb6",
   "metadata": {},
   "outputs": [],
   "source": [
    "con = None\n",
    "con = pg.connect(database='exp21bp000', user='postgres', password='postgres')\n",
    "con.autocommit=True\n",
    "cur = con.cursor()\n",
    "cur.execute(\"SELECT * FROM growth\")\n",
    "data = cur.fetchall()\n",
    "sorted_data = sorted(data, key=lambda element: element[0])\n",
    "formatted_data = [ [datapoint[0], datapoint[2], datapoint[3], datapoint[4], \n",
    "                sum(pickle.loads(datapoint[5])), sum(pickle.loads(datapoint[6])), len(pickle.loads(datapoint[7]))] \n",
    "                for datapoint in sorted_data]\n",
    "data_numpy = np.asarray(formatted_data)\n",
    "if con:\n",
    "    con.close()"
   ]
  },
  {
   "cell_type": "code",
   "execution_count": 12,
   "id": "4eaa2e24",
   "metadata": {},
   "outputs": [
    {
     "data": {
      "text/plain": [
       "37800"
      ]
     },
     "execution_count": 12,
     "metadata": {},
     "output_type": "execute_result"
    }
   ],
   "source": [
    "len(data)"
   ]
  },
  {
   "cell_type": "code",
   "execution_count": 16,
   "id": "40401d59",
   "metadata": {},
   "outputs": [
    {
     "data": {
      "text/plain": [
       "[1, 1, 0, 0, 461, 93.9711471723989, 3]"
      ]
     },
     "execution_count": 16,
     "metadata": {},
     "output_type": "execute_result"
    }
   ],
   "source": [
    "formatted_data[0]"
   ]
  },
  {
   "cell_type": "code",
   "execution_count": 13,
   "id": "0d0ccd95",
   "metadata": {},
   "outputs": [
    {
     "data": {
      "text/plain": [
       "(37800, 7)"
      ]
     },
     "execution_count": 13,
     "metadata": {},
     "output_type": "execute_result"
    }
   ],
   "source": [
    "data_numpy.shape"
   ]
  },
  {
   "cell_type": "code",
   "execution_count": 20,
   "id": "72867b1e",
   "metadata": {},
   "outputs": [],
   "source": [
    "num_positions = int(np.max(data_numpy[:, 1])) + 1\n",
    "max_channels = int(np.max(data_numpy[:, 3]))  + 1"
   ]
  },
  {
   "cell_type": "code",
   "execution_count": null,
   "id": "a1fd8c17",
   "metadata": {},
   "outputs": [],
   "source": []
  },
  {
   "cell_type": "code",
   "execution_count": 56,
   "id": "3e0017cb",
   "metadata": {},
   "outputs": [
    {
     "name": "stdout",
     "output_type": "stream",
     "text": [
      "0 102\n",
      "1 95\n",
      "5 97\n"
     ]
    }
   ],
   "source": [
    "area_cutoff = 1000\n",
    "time_cutoff=13\n",
    "fraction = 0.5\n",
    "blobs_cutoff = 10\n",
    "for pos in range(num_positions):\n",
    "    for channel in range(max_channels):\n",
    "        pos_channel_data = data_numpy[np.argwhere(np.logical_and(data_numpy[:, 1] == pos, data_numpy[:, 3] == channel))]\n",
    "        #print(f\"Pos: {pos} -- channelno: {channel} -- data: {len(pos_channel_data)}\")\n",
    "        # sort the data by time and apply filters and select positions\n",
    "        pos_channel_data_list = pos_channel_data.squeeze(1).tolist()\n",
    "        channel_data = np.asarray(sorted(pos_channel_data_list, key=lambda element: element[2]))\n",
    "        \n",
    "        area_fraction = np.sum(channel_data[time_cutoff:, 4] > area_cutoff)/ channel_data.shape[0]\n",
    "        blobs_fraction = np.sum(channel_data[time_cutoff:, 6] > blobs_cutoff)/ channel_data.shape[0]\n",
    "        \n",
    "        #print(blobs_fraction)\n",
    "        if area_fraction > fraction and blobs_fraction > fraction:\n",
    "            print(pos, channel)"
   ]
  },
  {
   "cell_type": "code",
   "execution_count": 47,
   "id": "a0ef6cce",
   "metadata": {},
   "outputs": [
    {
     "data": {
      "text/plain": [
       "array([2960., 2384., 2408., 2374., 2466., 2438., 2471., 2368., 2454.,\n",
       "       2368., 2430., 1824., 2155., 2226., 2253., 2281., 2263., 2341.,\n",
       "       2300., 2389., 2412., 2401., 2403., 2319., 2310., 2329., 2301.])"
      ]
     },
     "execution_count": 47,
     "metadata": {},
     "output_type": "execute_result"
    }
   ],
   "source": [
    "sorted_by_time[13:, 4]"
   ]
  },
  {
   "cell_type": "code",
   "execution_count": 48,
   "id": "adb5d8ad",
   "metadata": {},
   "outputs": [
    {
     "data": {
      "text/plain": [
       "40"
      ]
     },
     "execution_count": 48,
     "metadata": {},
     "output_type": "execute_result"
    }
   ],
   "source": [
    "len(sorted_by_time)"
   ]
  },
  {
   "cell_type": "code",
   "execution_count": null,
   "id": "d2e60e28",
   "metadata": {},
   "outputs": [],
   "source": []
  }
 ],
 "metadata": {
  "kernelspec": {
   "display_name": "Python 3 (ipykernel)",
   "language": "python",
   "name": "python3"
  },
  "language_info": {
   "codemirror_mode": {
    "name": "ipython",
    "version": 3
   },
   "file_extension": ".py",
   "mimetype": "text/x-python",
   "name": "python",
   "nbconvert_exporter": "python",
   "pygments_lexer": "ipython3",
   "version": "3.9.7"
  }
 },
 "nbformat": 4,
 "nbformat_minor": 5
}
