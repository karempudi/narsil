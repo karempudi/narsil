{
 "cells": [
  {
   "cell_type": "code",
   "execution_count": 1,
   "id": "efcf8a3d",
   "metadata": {},
   "outputs": [],
   "source": [
    "%reload_ext autoreload\n",
    "%autoreload 2\n",
    "%matplotlib qt5"
   ]
  },
  {
   "cell_type": "code",
   "execution_count": 2,
   "id": "441b12f6",
   "metadata": {},
   "outputs": [],
   "source": [
    "import numpy as np\n",
    "import pickle\n",
    "import psycopg2 as pg"
   ]
  },
  {
   "cell_type": "code",
   "execution_count": 3,
   "id": "0d78760f",
   "metadata": {},
   "outputs": [],
   "source": [
    "con = None\n",
    "con = pg.connect(database='exp21bp000', user='postgres', password='postgres')\n",
    "con.autocommit=True\n",
    "cur = con.cursor()\n",
    "cur.execute(\"\"\"SELECT * FROM growth\"\"\")\n",
    "data = cur.fetchall()\n",
    "con = None"
   ]
  },
  {
   "cell_type": "code",
   "execution_count": 4,
   "id": "d246552d",
   "metadata": {},
   "outputs": [
    {
     "data": {
      "text/plain": [
       "37800"
      ]
     },
     "execution_count": 4,
     "metadata": {},
     "output_type": "execute_result"
    }
   ],
   "source": [
    "len(data)"
   ]
  },
  {
   "cell_type": "code",
   "execution_count": 11,
   "id": "04a3b368",
   "metadata": {},
   "outputs": [],
   "source": [
    "data_sorted = sorted(data, key = lambda element: element[0])"
   ]
  },
  {
   "cell_type": "code",
   "execution_count": 17,
   "id": "472db41d",
   "metadata": {},
   "outputs": [
    {
     "name": "stdout",
     "output_type": "stream",
     "text": [
      "1421 2 1 0\n",
      "1423 2 1 1\n",
      "1426 2 1 2\n",
      "1428 2 1 3\n",
      "1430 2 1 4\n",
      "1432 2 1 5\n",
      "1434 2 1 6\n",
      "1436 2 1 7\n",
      "1438 2 1 8\n",
      "1440 2 1 9\n",
      "1442 2 1 10\n",
      "1444 2 1 11\n",
      "1446 2 1 12\n",
      "1448 2 1 13\n",
      "1450 2 1 14\n",
      "1454 2 1 15\n",
      "1457 2 1 16\n",
      "1459 2 1 17\n",
      "1463 2 1 18\n",
      "1465 2 1 19\n",
      "1469 2 1 20\n",
      "1471 2 1 21\n",
      "1474 2 1 22\n",
      "1478 2 1 23\n",
      "1480 2 1 24\n",
      "1483 2 1 25\n",
      "1486 2 1 26\n",
      "1490 2 1 27\n",
      "1492 2 1 28\n",
      "1495 2 1 29\n",
      "1498 2 1 30\n",
      "1501 2 1 31\n",
      "1504 2 1 32\n",
      "1507 2 1 33\n",
      "1510 2 1 34\n",
      "1513 2 1 35\n",
      "1516 2 1 36\n",
      "1520 2 1 37\n",
      "1523 2 1 38\n",
      "1526 2 1 39\n",
      "1528 2 1 40\n",
      "1531 2 1 41\n",
      "1534 2 1 42\n",
      "1537 2 1 43\n",
      "1541 2 1 44\n",
      "1543 2 1 45\n",
      "1547 2 1 46\n",
      "1549 2 1 47\n",
      "1553 2 1 48\n",
      "1555 2 1 49\n",
      "1558 2 1 50\n",
      "1560 2 1 51\n",
      "1562 2 1 52\n",
      "1564 2 1 53\n",
      "1566 2 1 54\n",
      "1568 2 1 55\n",
      "1571 2 1 56\n",
      "1576 2 1 57\n",
      "1577 2 1 58\n",
      "1579 2 1 59\n",
      "1581 2 1 60\n",
      "1583 2 1 61\n",
      "1587 2 1 62\n",
      "1594 2 1 63\n",
      "1601 2 1 64\n",
      "1603 2 1 65\n",
      "1606 2 1 66\n",
      "1608 2 1 67\n",
      "1610 2 1 68\n",
      "1612 2 1 69\n",
      "1614 2 1 70\n",
      "1616 2 1 71\n",
      "1618 2 1 72\n",
      "1620 2 1 73\n",
      "1622 2 1 74\n",
      "1624 2 1 75\n",
      "1626 2 1 76\n",
      "1628 2 1 77\n",
      "1630 2 1 78\n",
      "1632 2 1 79\n",
      "1635 2 1 80\n",
      "1637 2 1 81\n",
      "1640 2 1 82\n",
      "1643 2 1 83\n",
      "1646 2 1 84\n",
      "1649 2 1 85\n",
      "1652 2 1 86\n",
      "1655 2 1 87\n",
      "1657 2 1 88\n",
      "1659 2 1 89\n",
      "1660 2 1 90\n",
      "1661 2 1 91\n",
      "1662 2 1 92\n",
      "1663 2 1 93\n",
      "1664 2 1 94\n",
      "1671 2 1 95\n",
      "1672 2 1 96\n",
      "1673 2 1 97\n",
      "1674 2 1 98\n",
      "1675 2 1 99\n",
      "1676 2 1 100\n",
      "1677 2 1 101\n",
      "1678 2 1 102\n",
      "1679 2 1 103\n",
      "1680 2 1 104\n"
     ]
    }
   ],
   "source": [
    "for datapoint in data_sorted:\n",
    "    if datapoint[2] == 2 and datapoint[3] == 1:\n",
    "        print(datapoint[0], datapoint[2], datapoint[3], datapoint[4])"
   ]
  },
  {
   "cell_type": "code",
   "execution_count": null,
   "id": "dd933473",
   "metadata": {},
   "outputs": [],
   "source": [
    "data[0]"
   ]
  }
 ],
 "metadata": {
  "kernelspec": {
   "display_name": "Python 3 (ipykernel)",
   "language": "python",
   "name": "python3"
  },
  "language_info": {
   "codemirror_mode": {
    "name": "ipython",
    "version": 3
   },
   "file_extension": ".py",
   "mimetype": "text/x-python",
   "name": "python",
   "nbconvert_exporter": "python",
   "pygments_lexer": "ipython3",
   "version": "3.9.7"
  }
 },
 "nbformat": 4,
 "nbformat_minor": 5
}
