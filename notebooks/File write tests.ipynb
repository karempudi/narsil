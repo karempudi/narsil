{
 "cells": [
  {
   "cell_type": "code",
   "execution_count": 3,
   "id": "718e16b0",
   "metadata": {},
   "outputs": [],
   "source": [
    "%reload_ext autoreload\n",
    "%autoreload 2\n",
    "%matplotlib inline"
   ]
  },
  {
   "cell_type": "code",
   "execution_count": 4,
   "id": "3a7856a3",
   "metadata": {},
   "outputs": [],
   "source": [
    "from pathlib import Path\n",
    "import numpy as np\n",
    "import matplotlib.pyplot as plt"
   ]
  },
  {
   "cell_type": "code",
   "execution_count": 5,
   "id": "5d2f8499",
   "metadata": {},
   "outputs": [],
   "source": [
    "directory = Path(\"/mnt/sda2/Praneeth/newAnalysisData/5/oneMMChannelPhase/20/\")"
   ]
  },
  {
   "cell_type": "code",
   "execution_count": 34,
   "id": "0bdcf00e",
   "metadata": {},
   "outputs": [],
   "source": []
  },
  {
   "cell_type": "code",
   "execution_count": 35,
   "id": "f3f61c46",
   "metadata": {},
   "outputs": [
    {
     "data": {
      "text/plain": [
       "(40, 1504, 36)"
      ]
     },
     "execution_count": 35,
     "metadata": {},
     "output_type": "execute_result"
    }
   ],
   "source": [
    "a.shape"
   ]
  },
  {
   "cell_type": "code",
   "execution_count": 36,
   "id": "3d003c6d",
   "metadata": {},
   "outputs": [
    {
     "data": {
      "text/plain": [
       "dtype('float64')"
      ]
     },
     "execution_count": 36,
     "metadata": {},
     "output_type": "execute_result"
    }
   ],
   "source": [
    "a.dtype"
   ]
  },
  {
   "cell_type": "code",
   "execution_count": 37,
   "id": "b41c5dac",
   "metadata": {},
   "outputs": [],
   "source": [
    "with open('test.npz', 'wb') as f:\n",
    "    np.savez_compressed(f, images=a)"
   ]
  },
  {
   "cell_type": "code",
   "execution_count": 38,
   "id": "83ed6fbe",
   "metadata": {},
   "outputs": [],
   "source": [
    "loaded = np.load('test.npz')"
   ]
  },
  {
   "cell_type": "code",
   "execution_count": 39,
   "id": "b9dafb73",
   "metadata": {},
   "outputs": [
    {
     "data": {
      "text/plain": [
       "(40, 1504, 36)"
      ]
     },
     "execution_count": 39,
     "metadata": {},
     "output_type": "execute_result"
    }
   ],
   "source": [
    "loaded['images'].shape"
   ]
  },
  {
   "cell_type": "code",
   "execution_count": 40,
   "id": "fbc0f388",
   "metadata": {},
   "outputs": [
    {
     "data": {
      "text/plain": [
       "array([[-0.0547742 ,  2.1788957 ,  1.9559847 , ..., -0.60551733,\n",
       "        -0.83865181,  0.29597556],\n",
       "       [ 0.82887468, -0.77552524, -0.94480467, ...,  0.3749045 ,\n",
       "        -0.03181745, -0.28325438],\n",
       "       [ 1.07811619,  1.74227776,  0.1716392 , ..., -0.9279626 ,\n",
       "        -0.63271907,  0.39867308],\n",
       "       ...,\n",
       "       [-0.9675832 , -1.04762449, -1.6509627 , ..., -0.24531092,\n",
       "        -0.71995945,  0.30517319],\n",
       "       [-0.31462552, -0.52870491,  1.09242444, ...,  0.79618183,\n",
       "        -0.35399359,  1.26345748],\n",
       "       [ 1.45559665,  0.46801672,  0.12467452, ...,  1.04315921,\n",
       "        -0.62352828, -1.90036525]])"
      ]
     },
     "execution_count": 40,
     "metadata": {},
     "output_type": "execute_result"
    }
   ],
   "source": [
    "loaded['images'][0]"
   ]
  },
  {
   "cell_type": "code",
   "execution_count": 41,
   "id": "9e5606a2",
   "metadata": {},
   "outputs": [
    {
     "data": {
      "text/plain": [
       "<matplotlib.image.AxesImage at 0x7fdf08eb8940>"
      ]
     },
     "execution_count": 41,
     "metadata": {},
     "output_type": "execute_result"
    },
    {
     "data": {
      "image/png": "[encoded data removed]",
      "text/plain": [
       "<Figure size 432x288 with 1 Axes>"
      ]
     },
     "metadata": {
      "needs_background": "light"
     },
     "output_type": "display_data"
    }
   ],
   "source": [
    "plt.imshow(loaded['images'][0])"
   ]
  },
  {
   "cell_type": "code",
   "execution_count": null,
   "id": "b1902793",
   "metadata": {},
   "outputs": [],
   "source": []
  }
 ],
 "metadata": {
  "kernelspec": {
   "display_name": "Python 3 (ipykernel)",
   "language": "python",
   "name": "python3"
  },
  "language_info": {
   "codemirror_mode": {
    "name": "ipython",
    "version": 3
   },
   "file_extension": ".py",
   "mimetype": "text/x-python",
   "name": "python",
   "nbconvert_exporter": "python",
   "pygments_lexer": "ipython3",
   "version": "3.9.7"
  }
 },
 "nbformat": 4,
 "nbformat_minor": 5
}
