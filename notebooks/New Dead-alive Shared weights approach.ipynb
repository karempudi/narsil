{
 "cells": [
  {
   "cell_type": "code",
   "execution_count": 1,
   "id": "38749d4f",
   "metadata": {},
   "outputs": [],
   "source": [
    "%reload_ext autoreload\n",
    "%autoreload 2\n",
    "%matplotlib qt5"
   ]
  },
  {
   "cell_type": "code",
   "execution_count": 2,
   "id": "da282405",
   "metadata": {},
   "outputs": [],
   "source": [
    "import numpy as np\n",
    "import matplotlib.pyplot as plt\n",
    "from matplotlib.widgets import Button, CheckButtons, RadioButtons\n",
    "import pickle\n",
    "from skimage import io\n",
    "import glob\n",
    "import pickle\n",
    "import torch\n",
    "import torch.nn as nn\n",
    "import torch.nn.functional as F\n",
    "import torch.optim as optim\n",
    "from torchvision import transforms\n",
    "from torch.utils.data import Dataset, DataLoader"
   ]
  },
  {
   "cell_type": "markdown",
   "id": "468152a6",
   "metadata": {},
   "source": [
    "### Dataset creation"
   ]
  },
  {
   "cell_type": "code",
   "execution_count": 3,
   "id": "5f6f4d86",
   "metadata": {},
   "outputs": [],
   "source": [
    "class markStateTransition(object):\n",
    "    \n",
    "    def __init__(self, phaseDir=None, fileformat='.tiff', saveFilename='states.pickle'):\n",
    "        self.phaseDir = phaseDir\n",
    "        self.fileformat = fileformat\n",
    "        self.saveFilename = saveFilename\n",
    "        self.indices = [int(filename.split('.')[0].split('/')[-1]) for filename in \n",
    "                       glob.glob(self.phaseDir + \"*\" + self.fileformat)]\n",
    "        self.indices.sort()\n",
    "        self.states = {}  # it is a dictionary\n",
    "        # with keys as directory name, file index 1, file index 2 and states\n",
    "        self.states['dirName'] = phaseDir\n",
    "        self.states['data'] = [] # use keys frame1, frame2 and keys for each of the state\n",
    "        \n",
    "        \n",
    "        self.fig, (self.ax1, self.ax2) = plt.subplots(1, 2, num=str(self.phaseDir))\n",
    "        plt.subplots_adjust(left=0.25, bottom=0.25)\n",
    "        self.axcolor = 'lightgoldenrodyellow'\n",
    "        \n",
    "        #\n",
    "        self.frame1 = 0\n",
    "        self.pltFrame1 = self.ax1.imshow(self.__getitem__(self.frame1), cmap='gray')\n",
    "        self.ax1.set_title(str(self.frame1) + self.fileformat)\n",
    "        self.frame2 = 1\n",
    "        self.pltFrame2 = self.ax2.imshow(self.__getitem__(self.frame2), cmap='gray')\n",
    "        self.ax2.set_title(str(self.frame2) + self.fileformat)\n",
    "        \n",
    "        # buttons\n",
    "        # next and save\n",
    "        self.previousax = plt.axes([0.5, 0.025, 0.1, 0.03])\n",
    "        self.nextax = plt.axes([0.65, 0.025, 0.1, 0.03])\n",
    "        self.saveax = plt.axes([0.8, 0.025, 0.1, 0.03])\n",
    "        self.nextButton = Button(self.nextax, 'Next', color=self.axcolor, hovercolor='0.975')\n",
    "        self.saveButton = Button(self.saveax, 'Save', color=self.axcolor, hovercolor='0.975')\n",
    "        self.previousButton = Button(self.previousax, 'Previous', color=self.axcolor, hovercolor='0.975')\n",
    "        self.nextButton.on_clicked(self.nextImage)\n",
    "        self.previousButton.on_clicked(self.previousImage)\n",
    "        self.saveButton.on_clicked(self.save)\n",
    "        \n",
    "        # Radio buttons for each category transition\n",
    "        \n",
    "        self.rax = plt.axes([0.05, 0.7, 0.15, 0.15], facecolor=self.axcolor)\n",
    "        self.radio = RadioButtons(self.rax, ('moved', 'not moved'))\n",
    "        self.moved = True\n",
    "        self.radio.on_clicked(self.changeMovedState)\n",
    "        \n",
    "        \n",
    "        # more radiobuttons for other states\n",
    "        \n",
    "        \n",
    "        plt.pause(0.01)\n",
    "        \n",
    "    def __len__(self):\n",
    "        return len(self.indices)\n",
    "    \n",
    "    def __getitem__(self, idx):\n",
    "        if idx < self.__len__():\n",
    "            phaseFilename = self.phaseDir + str(self.indices[idx]) + self.fileformat\n",
    "            #print(phaseFilename)\n",
    "            return io.imread(phaseFilename)\n",
    "        else:\n",
    "            return None\n",
    "    \n",
    "    \n",
    "    def changeMovedState(self, label):\n",
    "        moved_dict = {'moved': True, 'not moved': False}\n",
    "        self.moved = moved_dict[label]\n",
    "    \n",
    "    def nextImage(self, buttonPress):\n",
    "        \n",
    "        # store the current state in the data\n",
    "        self.states['data'].append({\n",
    "            'frame1': self.phaseDir + str(self.frame1) + self.fileformat,\n",
    "            'frame2': self.phaseDir + str(self.frame2) + self.fileformat,\n",
    "            'moved': self.moved\n",
    "            })\n",
    "        print(self.states['data'][-1])\n",
    "        # update figure\n",
    "        if self.frame2 == self.__len__() - 1:\n",
    "            print('Last frame reached')\n",
    "            return\n",
    "        else:\n",
    "            self.frame1 += 1\n",
    "            self.frame2 += 1\n",
    "            self.pltFrame1.set_data(self.__getitem__(self.frame1))\n",
    "            self.ax1.set_title(str(self.frame1) + self.fileformat)\n",
    "            self.pltFrame2.set_data(self.__getitem__(self.frame2))\n",
    "            self.ax2.set_title(str(self.frame2) + self.fileformat)\n",
    "            self.fig.canvas.draw()\n",
    "            \n",
    "    def previousImage(self, buttonPress):\n",
    "        \n",
    "        if self.frame1 == 0:\n",
    "            print('First frame reached')\n",
    "            return\n",
    "        else:\n",
    "            if len(self.states['data']) != 0:\n",
    "                del self.states['data'][-1]\n",
    "                \n",
    "            self.frame1 -= 1\n",
    "            self.frame2 -= 1\n",
    "            self.pltFrame1.set_data(self.__getitem__(self.frame1))\n",
    "            self.ax1.set_title(str(self.frame1) + self.fileformat)\n",
    "            self.pltFrame2.set_data(self.__getitem__(self.frame2))\n",
    "            self.ax2.set_title(str(self.frame2) + self.fileformat)\n",
    "            self.fig.canvas.draw()\n",
    "    \n",
    "    def save(self, save):\n",
    "        print(self.states)\n",
    "        saveFilename = self.phaseDir + self.saveFilename\n",
    "        with open(saveFilename, 'wb') as f:\n",
    "            pickle.dump(self.states, f, protocol=pickle.HIGHEST_PROTOCOL)\n",
    "        print(f\"File saved {saveFilename}\")"
   ]
  },
  {
   "cell_type": "code",
   "execution_count": 4,
   "id": "e3475e1e",
   "metadata": {},
   "outputs": [],
   "source": [
    "phaseDir = '/home/pk/Documents/trainingData/deadalive1/4/'\n",
    "genData = markStateTransition(phaseDir)"
   ]
  },
  {
   "cell_type": "code",
   "execution_count": null,
   "id": "e8659a04",
   "metadata": {},
   "outputs": [],
   "source": []
  },
  {
   "cell_type": "code",
   "execution_count": null,
   "id": "5e5f4056",
   "metadata": {},
   "outputs": [],
   "source": []
  },
  {
   "cell_type": "markdown",
   "id": "b50d10cf",
   "metadata": {},
   "source": [
    "### Data loader and parameters"
   ]
  },
  {
   "cell_type": "code",
   "execution_count": 4,
   "id": "e5e262c5",
   "metadata": {},
   "outputs": [],
   "source": [
    "class cellsMovingDataset(object):\n",
    "    \n",
    "    def __init__(self, phaseDirectoriesList, fileformat='.tiff'):\n",
    "        \n",
    "        self.phaseDirectoriesList = phaseDirectoriesList\n",
    "        self.data = []\n",
    "        \n",
    "        for directory in self.phaseDirectoriesList:\n",
    "            # read the states file\n",
    "            statesFilename = directory + 'states.pickle'\n",
    "            with open(statesFilename, 'rb') as file:\n",
    "                states = pickle.load(file)\n",
    "            data = states['data']\n",
    "            \n",
    "            self.data.extend(data)\n",
    "    \n",
    "            \n",
    "    def __len__(self):\n",
    "        return len(self.data)\n",
    "    \n",
    "    def __getitem__(self, idx):\n",
    "        \n",
    "        datapoint = self.data[idx]\n",
    "        \n",
    "        frame1 = io.imread(datapoint['frame1'])\n",
    "        frame2 = io.imread(datapoint['frame2'])\n",
    "        cellsmoving = datapoint['moved']\n",
    "        \n",
    "        return {\n",
    "            'frame1': frame1,\n",
    "            'frame2': frame2,\n",
    "            'cellsmoving': cellsmoving,\n",
    "            'frame1file': datapoint['frame1'],\n",
    "            'frame2file': datapoint['frame2']\n",
    "        }\n",
    "    \n",
    "    def statistics(self):\n",
    "        stats = {'moved': 0, 'notmoved': 0}\n",
    "        for datapoint in self.data:\n",
    "            if datapoint['moved']:\n",
    "                stats['moved'] += 1\n",
    "            else:\n",
    "                stats['notmoved'] += 1\n",
    "        \n",
    "        return stats\n",
    "    \n",
    "    def plotDatapoint(self, idx):\n",
    "        \n",
    "        datapoint = self.__getitem__(idx)       \n",
    "        fig, ax = plt.subplots(1, 2)\n",
    "        plt.title(datapoint['frame1file'].split('/')[0])\n",
    "        ax[0].imshow(datapoint['frame1'], cmap='gray')\n",
    "        ax[1].imshow(datapoint['frame2'], cmap='gray')\n",
    "        \n",
    "        ax[0].set_title(f\"Moved : {datapoint['cellsmoving']}\")\n",
    "        ax[1].set_title(f\"Moved: {datapoint['cellsmoving']}\")\n",
    "        plt.show(block=False)"
   ]
  },
  {
   "cell_type": "code",
   "execution_count": 5,
   "id": "584d9a37",
   "metadata": {},
   "outputs": [],
   "source": [
    "phaseDirectoriesList = ['/home/pk/Documents/trainingData/deadalive1/0/',\n",
    "                        '/home/pk/Documents/trainingData/deadalive1/1/',\n",
    "                       '/home/pk/Documents/trainingData/deadalive1/2/',\n",
    "                       '/home/pk/Documents/trainingData/deadalive1/3/',\n",
    "                       '/home/pk/Documents/trainingData/deadalive1/4/']"
   ]
  },
  {
   "cell_type": "code",
   "execution_count": 6,
   "id": "23f04cf9",
   "metadata": {},
   "outputs": [],
   "source": [
    "data = cellsMovingDataset(phaseDirectoriesList)"
   ]
  },
  {
   "cell_type": "code",
   "execution_count": 7,
   "id": "79a6f3c1",
   "metadata": {},
   "outputs": [
    {
     "data": {
      "text/plain": [
       "211"
      ]
     },
     "execution_count": 7,
     "metadata": {},
     "output_type": "execute_result"
    }
   ],
   "source": [
    "len(data)"
   ]
  },
  {
   "cell_type": "code",
   "execution_count": 8,
   "id": "c74fb1a0",
   "metadata": {},
   "outputs": [
    {
     "data": {
      "text/plain": [
       "{'frame1': array([[ 1.6432905 ,  1.5902892 ,  1.6138453 , ...,  1.6177714 ,\n",
       "          1.6079563 ,  1.519621  ],\n",
       "        [ 1.8199612 ,  1.7178848 ,  1.7061068 , ...,  1.5549551 ,\n",
       "          1.6550685 ,  1.6354384 ],\n",
       "        [ 1.8651104 ,  1.7846271 ,  1.7453669 , ...,  1.7375149 ,\n",
       "          1.8179982 ,  1.8454803 ],\n",
       "        ...,\n",
       "        [-0.4806841 , -0.48853615, -0.44142395, ..., -0.455165  ,\n",
       "         -0.48264712, -0.41590485],\n",
       "        [-0.455165  , -0.4767581 , -0.453202  , ..., -0.48264712,\n",
       "         -0.42179388, -0.43357193],\n",
       "        [-0.455165  , -0.4276829 , -0.4021638 , ..., -0.46694306,\n",
       "         -0.43946093, -0.4276829 ]], dtype=float32),\n",
       " 'frame2': array([[ 1.7492168 ,  1.5520586 ,  1.6624671 , ...,  1.7373873 ,\n",
       "          1.6545808 ,  1.6742966 ],\n",
       "        [ 1.6407797 ,  1.6762682 ,  1.6151491 , ...,  1.4988258 ,\n",
       "          1.6013482 ,  1.6565524 ],\n",
       "        [ 1.776819  ,  1.7728758 ,  1.7649895 , ...,  1.621064  ,\n",
       "          1.6407797 ,  1.6565524 ],\n",
       "        ...,\n",
       "        [-0.4313536 , -0.4767    , -0.48064318, ..., -0.42543885,\n",
       "         -0.4550126 , -0.45304102],\n",
       "        [-0.44121152, -0.41558096, -0.4313536 , ..., -0.45106944,\n",
       "         -0.44712627, -0.42938203],\n",
       "        [-0.4313536 , -0.38403562, -0.45106944, ..., -0.4668421 ,\n",
       "         -0.41755253, -0.39783671]], dtype=float32),\n",
       " 'cellsmoving': True,\n",
       " 'frame1file': '/home/pk/Documents/trainingData/deadalive1/0/0.tiff',\n",
       " 'frame2file': '/home/pk/Documents/trainingData/deadalive1/0/1.tiff'}"
      ]
     },
     "execution_count": 8,
     "metadata": {},
     "output_type": "execute_result"
    }
   ],
   "source": [
    "data[0]"
   ]
  },
  {
   "cell_type": "code",
   "execution_count": 9,
   "id": "c59b09ac",
   "metadata": {},
   "outputs": [],
   "source": [
    "data.plotDatapoint(21)"
   ]
  },
  {
   "cell_type": "code",
   "execution_count": 10,
   "id": "ba374407",
   "metadata": {},
   "outputs": [
    {
     "data": {
      "text/plain": [
       "{'moved': 51, 'notmoved': 160}"
      ]
     },
     "execution_count": 10,
     "metadata": {},
     "output_type": "execute_result"
    }
   ],
   "source": [
    "data.statistics()"
   ]
  },
  {
   "cell_type": "code",
   "execution_count": null,
   "id": "105d6182",
   "metadata": {},
   "outputs": [],
   "source": []
  },
  {
   "cell_type": "markdown",
   "id": "43dd9665",
   "metadata": {},
   "source": [
    "### Data augmentations"
   ]
  },
  {
   "cell_type": "code",
   "execution_count": 11,
   "id": "7f927e7a",
   "metadata": {},
   "outputs": [],
   "source": [
    "class randomTranslations(object):\n",
    "\n",
    "    def __init__(self, translate=(0.0, 0.25)):\n",
    "        self.translate = translate\n",
    "    \n",
    "    def __call__(self, sample):\n",
    "        affine_params = transforms.RandomAffine.get_params(degrees= [0,0], \n",
    "                                                           translate=self.translate,\n",
    "                                                           scale_ranges=None,\n",
    "                                                           shears=None,\n",
    "                                                           img_size=[36, 800])\n",
    "        print(affine_params)\n",
    "        frame1Tensor = torch.from_numpy(sample['frame1']).unsqueeze(0)\n",
    "        frame2Tensor = torch.from_numpy(sample['frame2']).unsqueeze(0)\n",
    "        \n",
    "        \n",
    "        frame1Translated = transforms.functional.affine(frame1Tensor, *affine_params)\n",
    "        frame2Translated = transforms.functional.affine(frame2Tensor, *affine_params)\n",
    "        \n",
    "        return {\n",
    "            'frame1': frame1Translated,\n",
    "            'frame2': frame2Translated,\n",
    "            'cellsmoving': sample['cellsmoving'],\n",
    "            'frame1file': sample['frame1file'],\n",
    "            'frame2file': sample['frame2file']\n",
    "        }"
   ]
  },
  {
   "cell_type": "code",
   "execution_count": 17,
   "id": "68b15fad",
   "metadata": {},
   "outputs": [],
   "source": [
    "class randomVerticalFlips(object):\n",
    "    \n",
    "    def __call__(self, sample):\n",
    "        \n",
    "        return sample"
   ]
  },
  {
   "cell_type": "code",
   "execution_count": 12,
   "id": "270fd8f2",
   "metadata": {},
   "outputs": [
    {
     "data": {
      "text/plain": [
       "{'frame1': array([[ 1.6432905 ,  1.5902892 ,  1.6138453 , ...,  1.6177714 ,\n",
       "          1.6079563 ,  1.519621  ],\n",
       "        [ 1.8199612 ,  1.7178848 ,  1.7061068 , ...,  1.5549551 ,\n",
       "          1.6550685 ,  1.6354384 ],\n",
       "        [ 1.8651104 ,  1.7846271 ,  1.7453669 , ...,  1.7375149 ,\n",
       "          1.8179982 ,  1.8454803 ],\n",
       "        ...,\n",
       "        [-0.4806841 , -0.48853615, -0.44142395, ..., -0.455165  ,\n",
       "         -0.48264712, -0.41590485],\n",
       "        [-0.455165  , -0.4767581 , -0.453202  , ..., -0.48264712,\n",
       "         -0.42179388, -0.43357193],\n",
       "        [-0.455165  , -0.4276829 , -0.4021638 , ..., -0.46694306,\n",
       "         -0.43946093, -0.4276829 ]], dtype=float32),\n",
       " 'frame2': array([[ 1.7492168 ,  1.5520586 ,  1.6624671 , ...,  1.7373873 ,\n",
       "          1.6545808 ,  1.6742966 ],\n",
       "        [ 1.6407797 ,  1.6762682 ,  1.6151491 , ...,  1.4988258 ,\n",
       "          1.6013482 ,  1.6565524 ],\n",
       "        [ 1.776819  ,  1.7728758 ,  1.7649895 , ...,  1.621064  ,\n",
       "          1.6407797 ,  1.6565524 ],\n",
       "        ...,\n",
       "        [-0.4313536 , -0.4767    , -0.48064318, ..., -0.42543885,\n",
       "         -0.4550126 , -0.45304102],\n",
       "        [-0.44121152, -0.41558096, -0.4313536 , ..., -0.45106944,\n",
       "         -0.44712627, -0.42938203],\n",
       "        [-0.4313536 , -0.38403562, -0.45106944, ..., -0.4668421 ,\n",
       "         -0.41755253, -0.39783671]], dtype=float32),\n",
       " 'cellsmoving': True,\n",
       " 'frame1file': '/home/pk/Documents/trainingData/deadalive1/0/0.tiff',\n",
       " 'frame2file': '/home/pk/Documents/trainingData/deadalive1/0/1.tiff'}"
      ]
     },
     "execution_count": 12,
     "metadata": {},
     "output_type": "execute_result"
    }
   ],
   "source": [
    "data[0]"
   ]
  },
  {
   "cell_type": "code",
   "execution_count": 13,
   "id": "ed3463ec",
   "metadata": {},
   "outputs": [],
   "source": [
    "t = randomTranslations()"
   ]
  },
  {
   "cell_type": "code",
   "execution_count": 14,
   "id": "07aec9c9",
   "metadata": {},
   "outputs": [
    {
     "name": "stdout",
     "output_type": "stream",
     "text": [
      "(0.0, (0, 45), 1.0, (0.0, 0.0))\n"
     ]
    }
   ],
   "source": [
    "t_sample = t(data[0])"
   ]
  },
  {
   "cell_type": "code",
   "execution_count": 15,
   "id": "dda7e8be",
   "metadata": {},
   "outputs": [
    {
     "data": {
      "text/plain": [
       "{'frame1': tensor([[[ 0.0000,  0.0000,  0.0000,  ...,  0.0000,  0.0000,  0.0000],\n",
       "          [ 0.0000,  0.0000,  0.0000,  ...,  0.0000,  0.0000,  0.0000],\n",
       "          [ 0.0000,  0.0000,  0.0000,  ...,  0.0000,  0.0000,  0.0000],\n",
       "          ...,\n",
       "          [-0.4473, -0.4591, -0.4571,  ..., -0.4689, -0.3982, -0.5121],\n",
       "          [-0.4198, -0.4807, -0.4552,  ..., -0.4532, -0.4375, -0.4277],\n",
       "          [-0.4355, -0.4002, -0.4453,  ..., -0.4532, -0.4316, -0.4591]]]),\n",
       " 'frame2': tensor([[[ 0.0000,  0.0000,  0.0000,  ...,  0.0000,  0.0000,  0.0000],\n",
       "          [ 0.0000,  0.0000,  0.0000,  ...,  0.0000,  0.0000,  0.0000],\n",
       "          [ 0.0000,  0.0000,  0.0000,  ...,  0.0000,  0.0000,  0.0000],\n",
       "          ...,\n",
       "          [-0.4530, -0.4629, -0.4925,  ..., -0.4038, -0.4570, -0.4471],\n",
       "          [-0.4984, -0.4452, -0.4314,  ..., -0.4471, -0.4432, -0.4590],\n",
       "          [-0.4570, -0.4668, -0.4550,  ..., -0.4846, -0.4590, -0.4806]]]),\n",
       " 'cellsmoving': True,\n",
       " 'frame1file': '/home/pk/Documents/trainingData/deadalive1/0/0.tiff',\n",
       " 'frame2file': '/home/pk/Documents/trainingData/deadalive1/0/1.tiff'}"
      ]
     },
     "execution_count": 15,
     "metadata": {},
     "output_type": "execute_result"
    }
   ],
   "source": [
    "t_sample"
   ]
  },
  {
   "cell_type": "code",
   "execution_count": 16,
   "id": "cfd84093",
   "metadata": {},
   "outputs": [
    {
     "name": "stdout",
     "output_type": "stream",
     "text": [
      "(0.0, (0, 94), 1.0, (0.0, 0.0))\n"
     ]
    },
    {
     "data": {
      "text/plain": [
       "Text(0.5, 1.0, 'Moved: True')"
      ]
     },
     "execution_count": 16,
     "metadata": {},
     "output_type": "execute_result"
    }
   ],
   "source": [
    "datapoint = data[0]\n",
    "t = randomTranslations()\n",
    "t_sample = t(datapoint)\n",
    "fig, ax = plt.subplots(1, 4)\n",
    "plt.title(datapoint['frame1file'].split('/')[0])\n",
    "ax[0].imshow(t_sample['frame1'].numpy().squeeze(0), cmap='gray')\n",
    "ax[1].imshow(datapoint['frame1'], cmap='gray')\n",
    "ax[2].imshow(t_sample['frame2'].numpy().squeeze(0), cmap='gray')\n",
    "ax[3].imshow(datapoint['frame2'], cmap='gray')\n",
    "\n",
    "ax[0].set_title(f\"Moved : {t_sample['cellsmoving']}\")\n",
    "ax[1].set_title(f\"Moved: {datapoint['cellsmoving']}\")\n",
    "ax[2].set_title(f\"Moved: {t_sample['cellsmoving']}\")\n",
    "ax[3].set_title(f\"Moved: {datapoint['cellsmoving']}\")"
   ]
  },
  {
   "cell_type": "markdown",
   "id": "1283b8ee",
   "metadata": {},
   "source": [
    "### Net architecture"
   ]
  },
  {
   "cell_type": "code",
   "execution_count": 18,
   "id": "8e6a10e1",
   "metadata": {},
   "outputs": [],
   "source": [
    "class conv_relu_norm(nn.Module):\n",
    "    def __init__(self, input_channels, output_channels):\n",
    "        super(conv_relu_norm, self).__init__()\n",
    "        self.conv = nn.Sequential(\n",
    "            nn.Conv2d(input_channels, output_channels, 3, stride=1, padding=1),\n",
    "            nn.BatchNorm2d(output_channels),\n",
    "            nn.ReLU(inplace=True),\n",
    "            nn.Conv2d(output_channels, output_channels, 3, stride=1, padding=1),\n",
    "            nn.ReLU(inplace=True)\n",
    "        )\n",
    "        \n",
    "    def forward(self, x):\n",
    "        x = self.conv(x)\n",
    "\n",
    "class movingNet(nn.Module):\n",
    "    \n",
    "    def __init__(self):\n",
    "        \n",
    "        self.conv1 = conv_relu_norm(1, 64)\n",
    "             \n",
    "        \n",
    "    \n",
    "    def forward_one(self, img):\n",
    "        # get to conv feature head for each image\n",
    "        \n",
    "        return img\n",
    "    \n",
    "    def forward(self, sample):\n",
    "        # pass the sample image through the net seperately and then\n",
    "        \n",
    "        imgFeatures1 = self.forward_one(sample['frame1'])\n",
    "        imgFeatures2 = self.forward_one(sample['frame2'])\n",
    "        \n",
    "        # stack the image features\n",
    "        \n",
    "        return sample\n",
    "        "
   ]
  },
  {
   "cell_type": "code",
   "execution_count": null,
   "id": "7660d02d",
   "metadata": {},
   "outputs": [],
   "source": []
  },
  {
   "cell_type": "markdown",
   "id": "0c65af88",
   "metadata": {},
   "source": [
    "### Train and validation loop"
   ]
  },
  {
   "cell_type": "code",
   "execution_count": null,
   "id": "6892acb4",
   "metadata": {},
   "outputs": [],
   "source": []
  },
  {
   "cell_type": "code",
   "execution_count": null,
   "id": "4bda2bcc",
   "metadata": {},
   "outputs": [],
   "source": []
  },
  {
   "cell_type": "code",
   "execution_count": null,
   "id": "4ccb7637",
   "metadata": {},
   "outputs": [],
   "source": []
  },
  {
   "cell_type": "markdown",
   "id": "44b548d7",
   "metadata": {},
   "source": [
    "### Test loop"
   ]
  },
  {
   "cell_type": "code",
   "execution_count": null,
   "id": "51965a41",
   "metadata": {},
   "outputs": [],
   "source": []
  }
 ],
 "metadata": {
  "kernelspec": {
   "display_name": "Python 3 (ipykernel)",
   "language": "python",
   "name": "python3"
  },
  "language_info": {
   "codemirror_mode": {
    "name": "ipython",
    "version": 3
   },
   "file_extension": ".py",
   "mimetype": "text/x-python",
   "name": "python",
   "nbconvert_exporter": "python",
   "pygments_lexer": "ipython3",
   "version": "3.9.7"
  }
 },
 "nbformat": 4,
 "nbformat_minor": 5
}
