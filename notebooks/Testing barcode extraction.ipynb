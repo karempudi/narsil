{
 "cells": [
  {
   "cell_type": "code",
   "execution_count": 1,
   "id": "6f6cb5a6",
   "metadata": {},
   "outputs": [],
   "source": [
    "%reload_ext autoreload\n",
    "%autoreload 2\n",
    "%matplotlib qt5"
   ]
  },
  {
   "cell_type": "code",
   "execution_count": 2,
   "id": "d47ad6b7",
   "metadata": {},
   "outputs": [],
   "source": [
    "import numpy as np\n",
    "import matplotlib.pyplot as plt\n",
    "from skimage import io\n",
    "\n",
    "from skimage.transform import hough_circle, hough_circle_peaks, hough_ellipse\n",
    "from skimage.feature import canny\n",
    "from skimage.draw import circle_perimeter, circle\n",
    "from skimage.util import img_as_ubyte\n",
    "from pathlib import Path\n",
    "from skimage import data, color\n",
    "plt.rcParams[\"figure.figsize\"] = (20, 10)"
   ]
  },
  {
   "cell_type": "code",
   "execution_count": 3,
   "id": "a8105837",
   "metadata": {},
   "outputs": [],
   "source": [
    "\n",
    "path = Path('/home/pk/Documents/realtimeData/hetero40x/Pos103/phaseFast/img_000000017.tiff')"
   ]
  },
  {
   "cell_type": "code",
   "execution_count": 4,
   "id": "0926397b",
   "metadata": {},
   "outputs": [],
   "source": [
    "image = io.imread(path).astype('float32')"
   ]
  },
  {
   "cell_type": "code",
   "execution_count": 5,
   "id": "e3a8c251",
   "metadata": {},
   "outputs": [
    {
     "data": {
      "text/plain": [
       "(1488, 4096)"
      ]
     },
     "execution_count": 5,
     "metadata": {},
     "output_type": "execute_result"
    }
   ],
   "source": [
    "image.shape"
   ]
  },
  {
   "cell_type": "code",
   "execution_count": 6,
   "id": "71e1db65",
   "metadata": {},
   "outputs": [
    {
     "data": {
      "text/plain": [
       "dtype('float32')"
      ]
     },
     "execution_count": 6,
     "metadata": {},
     "output_type": "execute_result"
    }
   ],
   "source": [
    "image.dtype"
   ]
  },
  {
   "cell_type": "code",
   "execution_count": 7,
   "id": "a675db4c",
   "metadata": {},
   "outputs": [
    {
     "data": {
      "text/plain": [
       "<matplotlib.image.AxesImage at 0x7f013ceb9340>"
      ]
     },
     "execution_count": 7,
     "metadata": {},
     "output_type": "execute_result"
    }
   ],
   "source": [
    "plt.imshow(image)"
   ]
  },
  {
   "cell_type": "code",
   "execution_count": 8,
   "id": "b981c841",
   "metadata": {},
   "outputs": [],
   "source": [
    "image = (image - np.mean(image))/np.std(image)"
   ]
  },
  {
   "cell_type": "code",
   "execution_count": 9,
   "id": "f20ffd49",
   "metadata": {},
   "outputs": [],
   "source": [
    "from skimage import filters"
   ]
  },
  {
   "cell_type": "code",
   "execution_count": 10,
   "id": "ffbbd128",
   "metadata": {},
   "outputs": [],
   "source": [
    "edges = canny(image, sigma=7)"
   ]
  },
  {
   "cell_type": "code",
   "execution_count": 11,
   "id": "6075d1bb",
   "metadata": {},
   "outputs": [
    {
     "data": {
      "text/plain": [
       "<matplotlib.image.AxesImage at 0x7f0141c222e0>"
      ]
     },
     "execution_count": 11,
     "metadata": {},
     "output_type": "execute_result"
    }
   ],
   "source": [
    "plt.imshow(edges)"
   ]
  },
  {
   "cell_type": "code",
   "execution_count": 12,
   "id": "c7edf861",
   "metadata": {},
   "outputs": [],
   "source": [
    "from scipy.ndimage import binary_fill_holes, binary_erosion"
   ]
  },
  {
   "cell_type": "code",
   "execution_count": 13,
   "id": "a6b02eda",
   "metadata": {},
   "outputs": [],
   "source": [
    "image = binary_fill_holes(edges)"
   ]
  },
  {
   "cell_type": "code",
   "execution_count": 15,
   "id": "31a693f1",
   "metadata": {},
   "outputs": [
    {
     "data": {
      "text/plain": [
       "<matplotlib.image.AxesImage at 0x7f014146aeb0>"
      ]
     },
     "execution_count": 15,
     "metadata": {},
     "output_type": "execute_result"
    }
   ],
   "source": [
    "plt.imshow(image)"
   ]
  },
  {
   "cell_type": "code",
   "execution_count": 16,
   "id": "c452e4db",
   "metadata": {},
   "outputs": [],
   "source": [
    "image = binary_erosion(image)"
   ]
  },
  {
   "cell_type": "code",
   "execution_count": 17,
   "id": "3a432d12",
   "metadata": {},
   "outputs": [
    {
     "data": {
      "text/plain": [
       "<matplotlib.image.AxesImage at 0x7f0140cca0a0>"
      ]
     },
     "execution_count": 17,
     "metadata": {},
     "output_type": "execute_result"
    }
   ],
   "source": [
    "plt.imshow(image)"
   ]
  },
  {
   "cell_type": "code",
   "execution_count": null,
   "id": "1d3a56bf",
   "metadata": {},
   "outputs": [],
   "source": []
  },
  {
   "cell_type": "code",
   "execution_count": null,
   "id": "7f1bc6cb",
   "metadata": {},
   "outputs": [],
   "source": []
  },
  {
   "cell_type": "code",
   "execution_count": null,
   "id": "7d1827d3",
   "metadata": {},
   "outputs": [],
   "source": []
  },
  {
   "cell_type": "code",
   "execution_count": 31,
   "id": "6a52ef5b",
   "metadata": {},
   "outputs": [
    {
     "ename": "SyntaxError",
     "evalue": "invalid syntax (2565744971.py, line 3)",
     "output_type": "error",
     "traceback": [
      "\u001b[0;36m  File \u001b[0;32m\"/tmp/ipykernel_431803/2565744971.py\"\u001b[0;36m, line \u001b[0;32m3\u001b[0m\n\u001b[0;31m    hough_radii = np.arange(10, , 2)\u001b[0m\n\u001b[0m                                ^\u001b[0m\n\u001b[0;31mSyntaxError\u001b[0m\u001b[0;31m:\u001b[0m invalid syntax\n"
     ]
    }
   ],
   "source": [
    "def detect_circles(in_img):\n",
    "    edges = canny(in_img, sigma=2)\n",
    "    hough_radii = np.arange(10, , 2)\n",
    "    hough_res = hough_circle(edges, hough_radii)\n",
    "    accums, cx, cy, radii = hough_circle_peaks(hough_res, hough_radii, total_num_peaks=300)\n",
    "\n",
    "    img1 = np.zeros(in_img.shape)\n",
    "    img1 = color.gray2rgb(img1)\n",
    "    for center_y, center_x, radius, (r, g, b, _) in zip(cy, cx, radii, \n",
    "                                          plt.cm.nipy_spectral(np.linspace(0,1, len(radii))) # color map\n",
    "                                         ):\n",
    "        circy, circx = circle(center_y, center_x, radius)\n",
    "        img1[circy, circx] = (r*255, g*255, b*255)\n",
    "    return img1\n"
   ]
  },
  {
   "cell_type": "code",
   "execution_count": 25,
   "id": "e19c351b",
   "metadata": {},
   "outputs": [
    {
     "name": "stderr",
     "output_type": "stream",
     "text": [
      "/tmp/ipykernel_431803/2842679918.py:12: FutureWarning: `draw.circle` is deprecated in favor of `draw.disk`.`draw.circle` will be removed in version 0.19\n",
      "  circy, circx = circle(center_y, center_x, radius)\n"
     ]
    }
   ],
   "source": [
    "img = detect_circles(image)"
   ]
  },
  {
   "cell_type": "code",
   "execution_count": 27,
   "id": "11b5f498",
   "metadata": {},
   "outputs": [
    {
     "name": "stderr",
     "output_type": "stream",
     "text": [
      "Clipping input data to the valid range for imshow with RGB data ([0..1] for floats or [0..255] for integers).\n"
     ]
    },
    {
     "data": {
      "text/plain": [
       "<matplotlib.image.AxesImage at 0x7f7a604aee50>"
      ]
     },
     "execution_count": 27,
     "metadata": {},
     "output_type": "execute_result"
    }
   ],
   "source": [
    "plt.imshow(img)"
   ]
  },
  {
   "cell_type": "code",
   "execution_count": null,
   "id": "f85bd73b",
   "metadata": {},
   "outputs": [],
   "source": []
  },
  {
   "cell_type": "code",
   "execution_count": null,
   "id": "9be03e5c",
   "metadata": {},
   "outputs": [],
   "source": [
    "radii"
   ]
  },
  {
   "cell_type": "code",
   "execution_count": null,
   "id": "58bf7244",
   "metadata": {},
   "outputs": [],
   "source": [
    "cx"
   ]
  },
  {
   "cell_type": "code",
   "execution_count": null,
   "id": "737dad62",
   "metadata": {},
   "outputs": [],
   "source": [
    "\n",
    "cy"
   ]
  },
  {
   "cell_type": "code",
   "execution_count": null,
   "id": "2381fa82",
   "metadata": {},
   "outputs": [],
   "source": []
  }
 ],
 "metadata": {
  "kernelspec": {
   "display_name": "Python 3 (ipykernel)",
   "language": "python",
   "name": "python3"
  },
  "language_info": {
   "codemirror_mode": {
    "name": "ipython",
    "version": 3
   },
   "file_extension": ".py",
   "mimetype": "text/x-python",
   "name": "python",
   "nbconvert_exporter": "python",
   "pygments_lexer": "ipython3",
   "version": "3.9.7"
  }
 },
 "nbformat": 4,
 "nbformat_minor": 5
}
