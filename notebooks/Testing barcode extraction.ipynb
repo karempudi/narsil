{
 "cells": [
  {
   "cell_type": "code",
   "execution_count": 1,
   "id": "0d4ab170",
   "metadata": {},
   "outputs": [],
   "source": [
    "%reload_ext autoreload\n",
    "%autoreload 2\n",
    "%matplotlib qt5"
   ]
  },
  {
   "cell_type": "code",
   "execution_count": 2,
   "id": "f8363b6b",
   "metadata": {},
   "outputs": [],
   "source": [
    "import numpy as np\n",
    "import matplotlib.pyplot as plt\n",
    "from skimage import io\n",
    "\n",
    "from skimage.transform import hough_circle, hough_circle_peaks, hough_ellipse\n",
    "from skimage.feature import canny\n",
    "from skimage.draw import circle_perimeter, circle\n",
    "from skimage.util import img_as_ubyte\n",
    "from pathlib import Path\n",
    "from skimage import data, color\n",
    "plt.rcParams[\"figure.figsize\"] = (20, 10)\n",
    "import torch\n",
    "from narsil.segmentation.network import basicUnet, smallerUnet\n",
    "from narsil.liverun.utils import padTo32\n",
    "import math\n",
    "from datetime import datetime\n",
    "import time\n",
    "from scipy.signal import find_peaks"
   ]
  },
  {
   "cell_type": "code",
   "execution_count": 3,
   "id": "daf9d0e8",
   "metadata": {},
   "outputs": [],
   "source": [
    "\n",
    "imgpath = Path('/home/pk/Documents/realtimeData/hetero40x/Pos103/phaseFast/img_000000017.tiff')\n",
    "\n",
    "\n",
    "#imgpath = Path('/home/pk/Documents/EXP-21-BY1006/therun/Pos11/phase/img_000000008.tiff')"
   ]
  },
  {
   "cell_type": "code",
   "execution_count": 4,
   "id": "44516be6",
   "metadata": {},
   "outputs": [],
   "source": [
    "device = torch.device(\"cuda:1\" if torch.cuda.is_available() else \"cpu\")"
   ]
  },
  {
   "cell_type": "code",
   "execution_count": 4,
   "id": "48ba17fd",
   "metadata": {},
   "outputs": [],
   "source": [
    "#cellSegModelPath = Path('/home/pk/Documents/models/mixed10epochs_betterscale_contrastAdjusted1.pth')\n",
    "\n",
    "modelPath = Path('/home/pk/Documents/models/channels.pth')"
   ]
  },
  {
   "cell_type": "code",
   "execution_count": 5,
   "id": "30194ae2",
   "metadata": {},
   "outputs": [],
   "source": [
    "pad = padTo32()"
   ]
  },
  {
   "cell_type": "code",
   "execution_count": 7,
   "id": "ee3c0454",
   "metadata": {},
   "outputs": [],
   "source": [
    "with torch.no_grad():\n",
    "    cellNetState = torch.load(modelPath)\n",
    "    \n",
    "    if cellNetState['modelParameters']['netType'] == 'big':\n",
    "        cellSegNet = basicUnet(cellNetState['modelParameters']['transposeConv'])\n",
    "    elif cellNetState['modelParameters']['netType'] == 'small':\n",
    "        cellSegNet = smallerUnet(cellNetState['modelParameters']['transposeConv'])\n",
    "        \n",
    "    cellSegNet.load_state_dict(cellNetState['model_state_dict'])\n",
    "    cellSegNet.to(device)\n",
    "    cellSegNet.eval()"
   ]
  },
  {
   "cell_type": "code",
   "execution_count": 3,
   "id": "7ef11a89",
   "metadata": {},
   "outputs": [],
   "source": [
    "def imgFilenameFromNumber(number):\n",
    "    if number == 0:\n",
    "        num_digits = 1\n",
    "    else:\n",
    "        num_digits = int(math.log10(number)) + 1\n",
    "    imgFilename = 'img_' + '0' * (9 - num_digits) + str(number) + '.tiff'\n",
    "    return imgFilename\n"
   ]
  },
  {
   "cell_type": "code",
   "execution_count": null,
   "id": "5889b53c",
   "metadata": {},
   "outputs": [],
   "source": []
  },
  {
   "cell_type": "code",
   "execution_count": 9,
   "id": "5749e80b",
   "metadata": {},
   "outputs": [],
   "source": [
    "def apply(dirname, minLengthOfChannel = 200, minPeaksDistance = 25, gapWidth=48):\n",
    "    device = torch.device(\"cuda:1\" if torch.cuda.is_available() else \"cpu\")\n",
    "    modelPath = Path('/home/pk/Documents/models/channels.pth')\n",
    "    pad = padTo32()\n",
    "\n",
    "    with torch.no_grad():\n",
    "        cellNetState = torch.load(modelPath)\n",
    "\n",
    "        if cellNetState['modelParameters']['netType'] == 'big':\n",
    "            cellSegNet = basicUnet(cellNetState['modelParameters']['transposeConv'])\n",
    "        elif cellNetState['modelParameters']['netType'] == 'small':\n",
    "            cellSegNet = smallerUnet(cellNetState['modelParameters']['transposeConv'])\n",
    "\n",
    "        cellSegNet.load_state_dict(cellNetState['model_state_dict'])\n",
    "        cellSegNet.to(device)\n",
    "        cellSegNet.eval()\n",
    "    start = time.time()\n",
    "    for i in range(11, 20):\n",
    "        imgfilename = dirname + \"Pos\" + str(i) + '/phase/img_000000030.tiff' \n",
    "        imgpath = Path(imgfilename)\n",
    "        image = io.imread(imgpath)\n",
    "        image = pad(image)\n",
    "        imgTensor = torch.from_numpy(image.astype('float32')).unsqueeze(0).unsqueeze(0).to(device)\n",
    "        imgTensor = (imgTensor - torch.mean(imgTensor))/torch.std(imgTensor)\n",
    "        out = torch.sigmoid(cellSegNet(imgTensor))\n",
    "        out_cpu = out.detach().cpu().numpy().squeeze(0).squeeze(0)\n",
    "        print(imgTensor.shape)\n",
    "        \n",
    "        hist = np.sum(out_cpu, axis = 0) > minLengthOfChannel\n",
    "        peaks, _ = find_peaks(hist, distance = minPeaksDistance)\n",
    "        \n",
    "        print(peaks.shape)\n",
    "        indices_with_larger_gaps = np.where(np.ediff1d(peaks) > gapWidth)[0]\n",
    "        \n",
    "        \n",
    "        \n",
    "        plt.figure()\n",
    "        #plt.imshow(out_cpu)\n",
    "        plt.plot(hist)\n",
    "        plt.plot(peaks, hist[peaks], 'r*')\n",
    "        plt.plot(peaks[indices_with_larger_gaps],\n",
    "                 hist[peaks[indices_with_larger_gaps]],'o', markersize=10,\n",
    "                 scalex=False, scaley=False, fillstyle='none')\n",
    "        plt.show()\n",
    "        print(imgpath)\n",
    "    duration = time.time() - start\n",
    "        \n",
    "    print(f\"Duration: {duration/i}s\")\n",
    "    return out_cpu"
   ]
  },
  {
   "cell_type": "code",
   "execution_count": 10,
   "id": "02083e4a",
   "metadata": {},
   "outputs": [],
   "source": [
    "#one_img = apply('/home/pk/Documents/realtimeData/hetero40x/Pos103/phaseFast/')"
   ]
  },
  {
   "cell_type": "code",
   "execution_count": 11,
   "id": "73ffaba7",
   "metadata": {},
   "outputs": [],
   "source": [
    "#one_img = apply(\"/mnt/sda1/Praneeth/EXP-20-BP0361 75k imaging 6ugml/dry run/\")"
   ]
  },
  {
   "cell_type": "code",
   "execution_count": 12,
   "id": "3954575b",
   "metadata": {},
   "outputs": [],
   "source": [
    "#one_img = apply(\"/mnt/sda1/Praneeth/EXP-20-BP0361 75k imaging 6ugml/after loading/\")"
   ]
  },
  {
   "cell_type": "code",
   "execution_count": 13,
   "id": "86c5b96d",
   "metadata": {},
   "outputs": [
    {
     "name": "stdout",
     "output_type": "stream",
     "text": [
      "torch.Size([1, 1, 896, 4096])\n",
      "(114,)\n",
      "/home/pk/Documents/EXP-21-BY1006/therun/Pos11/phase/img_000000030.tiff\n",
      "torch.Size([1, 1, 896, 4096])\n",
      "(112,)\n",
      "/home/pk/Documents/EXP-21-BY1006/therun/Pos12/phase/img_000000030.tiff\n",
      "torch.Size([1, 1, 896, 4096])\n",
      "(112,)\n",
      "/home/pk/Documents/EXP-21-BY1006/therun/Pos13/phase/img_000000030.tiff\n",
      "torch.Size([1, 1, 896, 4096])\n",
      "(113,)\n",
      "/home/pk/Documents/EXP-21-BY1006/therun/Pos14/phase/img_000000030.tiff\n",
      "torch.Size([1, 1, 896, 4096])\n",
      "(112,)\n",
      "/home/pk/Documents/EXP-21-BY1006/therun/Pos15/phase/img_000000030.tiff\n",
      "torch.Size([1, 1, 896, 4096])\n",
      "(112,)\n",
      "/home/pk/Documents/EXP-21-BY1006/therun/Pos16/phase/img_000000030.tiff\n",
      "torch.Size([1, 1, 896, 4096])\n",
      "(112,)\n",
      "/home/pk/Documents/EXP-21-BY1006/therun/Pos17/phase/img_000000030.tiff\n",
      "torch.Size([1, 1, 896, 4096])\n",
      "(113,)\n",
      "/home/pk/Documents/EXP-21-BY1006/therun/Pos18/phase/img_000000030.tiff\n",
      "torch.Size([1, 1, 896, 4096])\n",
      "(112,)\n",
      "/home/pk/Documents/EXP-21-BY1006/therun/Pos19/phase/img_000000030.tiff\n",
      "Duration: 0.059998549913105215s\n"
     ]
    }
   ],
   "source": [
    "one_img = apply(\"/home/pk/Documents/EXP-21-BY1006/therun/\")"
   ]
  },
  {
   "cell_type": "code",
   "execution_count": 12,
   "id": "110e1dbe",
   "metadata": {},
   "outputs": [
    {
     "data": {
      "text/plain": [
       "<matplotlib.image.AxesImage at 0x7fded612fd90>"
      ]
     },
     "execution_count": 12,
     "metadata": {},
     "output_type": "execute_result"
    }
   ],
   "source": [
    "plt.imshow(one_img)"
   ]
  },
  {
   "cell_type": "code",
   "execution_count": 30,
   "id": "5ddd2872",
   "metadata": {},
   "outputs": [],
   "source": [
    "minLengthOfChannel = 200"
   ]
  },
  {
   "cell_type": "code",
   "execution_count": null,
   "id": "55a8d872",
   "metadata": {},
   "outputs": [],
   "source": []
  },
  {
   "cell_type": "code",
   "execution_count": 31,
   "id": "a803e361",
   "metadata": {},
   "outputs": [],
   "source": [
    "hist = np.sum(one_img, axis = 0) > minLengthOfChannel"
   ]
  },
  {
   "cell_type": "code",
   "execution_count": 32,
   "id": "365da173",
   "metadata": {},
   "outputs": [
    {
     "data": {
      "text/plain": [
       "[<matplotlib.lines.Line2D at 0x7fded60df790>]"
      ]
     },
     "execution_count": 32,
     "metadata": {},
     "output_type": "execute_result"
    }
   ],
   "source": [
    "plt.plot(hist)"
   ]
  },
  {
   "cell_type": "code",
   "execution_count": null,
   "id": "c53e5362",
   "metadata": {},
   "outputs": [],
   "source": []
  },
  {
   "cell_type": "code",
   "execution_count": 24,
   "id": "c4a6c3b1",
   "metadata": {},
   "outputs": [],
   "source": [
    "plt.figure()\n",
    "plt.imshow(one_img)\n",
    "plt.show()"
   ]
  },
  {
   "cell_type": "code",
   "execution_count": 18,
   "id": "ae40aa3a",
   "metadata": {},
   "outputs": [],
   "source": [
    "b = np.ones((10,))"
   ]
  },
  {
   "cell_type": "code",
   "execution_count": 19,
   "id": "70075f8e",
   "metadata": {},
   "outputs": [
    {
     "data": {
      "text/plain": [
       "array([1., 1., 1., 1., 1., 1., 1., 1., 1., 1.])"
      ]
     },
     "execution_count": 19,
     "metadata": {},
     "output_type": "execute_result"
    }
   ],
   "source": [
    "b"
   ]
  },
  {
   "cell_type": "code",
   "execution_count": null,
   "id": "a434f5b6",
   "metadata": {},
   "outputs": [],
   "source": []
  },
  {
   "cell_type": "code",
   "execution_count": 24,
   "id": "042a0447",
   "metadata": {},
   "outputs": [
    {
     "data": {
      "text/plain": [
       "array([12.,  1.,  1.,  1.,  1.,  1.,  1.,  1.,  1.,  1.,  1.])"
      ]
     },
     "execution_count": 24,
     "metadata": {},
     "output_type": "execute_result"
    }
   ],
   "source": [
    "np.insert(b, 0, 12)"
   ]
  },
  {
   "cell_type": "code",
   "execution_count": null,
   "id": "7fb811af",
   "metadata": {},
   "outputs": [],
   "source": []
  },
  {
   "cell_type": "code",
   "execution_count": null,
   "id": "cee565b5",
   "metadata": {},
   "outputs": [],
   "source": [
    "3.29"
   ]
  },
  {
   "cell_type": "code",
   "execution_count": 8,
   "id": "6473c395",
   "metadata": {},
   "outputs": [],
   "source": [
    "image = io.imread(imgpath)\n",
    "image = pad(image)\n",
    "imgTensor = torch.from_numpy(image.astype('float32')).unsqueeze(0).unsqueeze(0).to(device)\n",
    "imgTensor = (imgTensor - torch.mean(imgTensor))/torch.std(imgTensor)\n",
    "out = torch.sigmoid(cellSegNet(imgTensor))\n",
    "out_cpu = out.detach().cpu().numpy().squeeze(0).squeeze(0)"
   ]
  },
  {
   "cell_type": "code",
   "execution_count": 9,
   "id": "2c8fea68",
   "metadata": {},
   "outputs": [
    {
     "data": {
      "text/plain": [
       "array([[0.05213241, 0.01452362, 0.00998267, ..., 0.01133891, 0.01069751,\n",
       "        0.0445163 ],\n",
       "       [0.01521315, 0.00218285, 0.00127628, ..., 0.00178523, 0.00149088,\n",
       "        0.01218481],\n",
       "       [0.01415603, 0.00190436, 0.00120316, ..., 0.00213419, 0.00174523,\n",
       "        0.01270408],\n",
       "       ...,\n",
       "       [0.00372532, 0.00029129, 0.00017153, ..., 0.00029864, 0.00035982,\n",
       "        0.0064674 ],\n",
       "       [0.0054258 , 0.00055616, 0.00038846, ..., 0.00059395, 0.00071317,\n",
       "        0.00908298],\n",
       "       [0.02848835, 0.00667637, 0.00519472, ..., 0.00587905, 0.00676154,\n",
       "        0.03456329]], dtype=float32)"
      ]
     },
     "execution_count": 9,
     "metadata": {},
     "output_type": "execute_result"
    }
   ],
   "source": [
    "out_cpu"
   ]
  },
  {
   "cell_type": "code",
   "execution_count": 36,
   "id": "b5660ff5",
   "metadata": {},
   "outputs": [
    {
     "data": {
      "text/plain": [
       "<matplotlib.image.AxesImage at 0x7ff5bc03d820>"
      ]
     },
     "execution_count": 36,
     "metadata": {},
     "output_type": "execute_result"
    }
   ],
   "source": [
    "plt.imshow(out_cpu)"
   ]
  },
  {
   "cell_type": "code",
   "execution_count": null,
   "id": "129a6292",
   "metadata": {},
   "outputs": [],
   "source": []
  },
  {
   "cell_type": "code",
   "execution_count": 11,
   "id": "4004bbc7",
   "metadata": {},
   "outputs": [],
   "source": [
    "from skimage.measure import regionprops, label\n",
    "from datetime import datetime"
   ]
  },
  {
   "cell_type": "code",
   "execution_count": 12,
   "id": "2c0d3e59",
   "metadata": {},
   "outputs": [
    {
     "name": "stdout",
     "output_type": "stream",
     "text": [
      "2021-11-18 13:43:32.450126\n",
      "2021-11-18 13:43:32.494567\n"
     ]
    }
   ],
   "source": [
    "print(datetime.now())\n",
    "props = regionprops(label(out_cpu > 0.9))\n",
    "print(datetime.now())"
   ]
  },
  {
   "cell_type": "code",
   "execution_count": 35,
   "id": "cafe8369",
   "metadata": {},
   "outputs": [
    {
     "data": {
      "text/plain": [
       "<matplotlib.image.AxesImage at 0x7ff5bc05c790>"
      ]
     },
     "execution_count": 35,
     "metadata": {},
     "output_type": "execute_result"
    }
   ],
   "source": [
    "removed_labels = []\n",
    "labeled_img = label(out_cpu > 0.5)\n",
    "plt.imshow(labeled_img, cmap='gnuplot2')"
   ]
  },
  {
   "cell_type": "code",
   "execution_count": null,
   "id": "9e5cc05f",
   "metadata": {},
   "outputs": [],
   "source": []
  },
  {
   "cell_type": "code",
   "execution_count": null,
   "id": "918bee44",
   "metadata": {},
   "outputs": [],
   "source": []
  },
  {
   "cell_type": "code",
   "execution_count": 4,
   "id": "553b6ae9",
   "metadata": {},
   "outputs": [],
   "source": [
    "image = io.imread(path).astype('float32')"
   ]
  },
  {
   "cell_type": "code",
   "execution_count": 5,
   "id": "a529a0d9",
   "metadata": {},
   "outputs": [
    {
     "data": {
      "text/plain": [
       "(1488, 4096)"
      ]
     },
     "execution_count": 5,
     "metadata": {},
     "output_type": "execute_result"
    }
   ],
   "source": [
    "image.shape"
   ]
  },
  {
   "cell_type": "code",
   "execution_count": 6,
   "id": "04a08ce6",
   "metadata": {},
   "outputs": [
    {
     "data": {
      "text/plain": [
       "dtype('float32')"
      ]
     },
     "execution_count": 6,
     "metadata": {},
     "output_type": "execute_result"
    }
   ],
   "source": [
    "image.dtype"
   ]
  },
  {
   "cell_type": "code",
   "execution_count": 7,
   "id": "f290e465",
   "metadata": {},
   "outputs": [
    {
     "data": {
      "text/plain": [
       "<matplotlib.image.AxesImage at 0x7f013ceb9340>"
      ]
     },
     "execution_count": 7,
     "metadata": {},
     "output_type": "execute_result"
    }
   ],
   "source": [
    "plt.imshow(image)"
   ]
  },
  {
   "cell_type": "code",
   "execution_count": 8,
   "id": "5f82c59a",
   "metadata": {},
   "outputs": [],
   "source": [
    "image = (image - np.mean(image))/np.std(image)"
   ]
  },
  {
   "cell_type": "code",
   "execution_count": 9,
   "id": "ea7eaa1f",
   "metadata": {},
   "outputs": [],
   "source": [
    "from skimage import filters"
   ]
  },
  {
   "cell_type": "code",
   "execution_count": 10,
   "id": "5dab0179",
   "metadata": {},
   "outputs": [],
   "source": [
    "edges = canny(image, sigma=7)"
   ]
  },
  {
   "cell_type": "code",
   "execution_count": 11,
   "id": "334a5ec1",
   "metadata": {},
   "outputs": [
    {
     "data": {
      "text/plain": [
       "<matplotlib.image.AxesImage at 0x7f0141c222e0>"
      ]
     },
     "execution_count": 11,
     "metadata": {},
     "output_type": "execute_result"
    }
   ],
   "source": [
    "plt.imshow(edges)"
   ]
  },
  {
   "cell_type": "code",
   "execution_count": 12,
   "id": "4854ff83",
   "metadata": {},
   "outputs": [],
   "source": [
    "from scipy.ndimage import binary_fill_holes, binary_erosion"
   ]
  },
  {
   "cell_type": "code",
   "execution_count": 13,
   "id": "45b4505b",
   "metadata": {},
   "outputs": [],
   "source": [
    "image = binary_fill_holes(edges)"
   ]
  },
  {
   "cell_type": "code",
   "execution_count": 15,
   "id": "a1bd2fed",
   "metadata": {},
   "outputs": [
    {
     "data": {
      "text/plain": [
       "<matplotlib.image.AxesImage at 0x7f014146aeb0>"
      ]
     },
     "execution_count": 15,
     "metadata": {},
     "output_type": "execute_result"
    }
   ],
   "source": [
    "plt.imshow(image)"
   ]
  },
  {
   "cell_type": "code",
   "execution_count": 16,
   "id": "a63908b6",
   "metadata": {},
   "outputs": [],
   "source": [
    "image = binary_erosion(image)"
   ]
  },
  {
   "cell_type": "code",
   "execution_count": 17,
   "id": "8a4536c0",
   "metadata": {},
   "outputs": [
    {
     "data": {
      "text/plain": [
       "<matplotlib.image.AxesImage at 0x7f0140cca0a0>"
      ]
     },
     "execution_count": 17,
     "metadata": {},
     "output_type": "execute_result"
    }
   ],
   "source": [
    "plt.imshow(image)"
   ]
  },
  {
   "cell_type": "code",
   "execution_count": null,
   "id": "2d0fdae5",
   "metadata": {},
   "outputs": [],
   "source": []
  },
  {
   "cell_type": "code",
   "execution_count": null,
   "id": "9146b6b4",
   "metadata": {},
   "outputs": [],
   "source": []
  },
  {
   "cell_type": "code",
   "execution_count": null,
   "id": "accff205",
   "metadata": {},
   "outputs": [],
   "source": []
  },
  {
   "cell_type": "code",
   "execution_count": 31,
   "id": "14c935a3",
   "metadata": {},
   "outputs": [
    {
     "ename": "SyntaxError",
     "evalue": "invalid syntax (2565744971.py, line 3)",
     "output_type": "error",
     "traceback": [
      "\u001b[0;36m  File \u001b[0;32m\"/tmp/ipykernel_431803/2565744971.py\"\u001b[0;36m, line \u001b[0;32m3\u001b[0m\n\u001b[0;31m    hough_radii = np.arange(10, , 2)\u001b[0m\n\u001b[0m                                ^\u001b[0m\n\u001b[0;31mSyntaxError\u001b[0m\u001b[0;31m:\u001b[0m invalid syntax\n"
     ]
    }
   ],
   "source": [
    "def detect_circles(in_img):\n",
    "    edges = canny(in_img, sigma=2)\n",
    "    hough_radii = np.arange(10, , 2)\n",
    "    hough_res = hough_circle(edges, hough_radii)\n",
    "    accums, cx, cy, radii = hough_circle_peaks(hough_res, hough_radii, total_num_peaks=300)\n",
    "\n",
    "    img1 = np.zeros(in_img.shape)\n",
    "    img1 = color.gray2rgb(img1)\n",
    "    for center_y, center_x, radius, (r, g, b, _) in zip(cy, cx, radii, \n",
    "                                          plt.cm.nipy_spectral(np.linspace(0,1, len(radii))) # color map\n",
    "                                         ):\n",
    "        circy, circx = circle(center_y, center_x, radius)\n",
    "        img1[circy, circx] = (r*255, g*255, b*255)\n",
    "    return img1\n"
   ]
  },
  {
   "cell_type": "code",
   "execution_count": 25,
   "id": "5633ef0a",
   "metadata": {},
   "outputs": [
    {
     "name": "stderr",
     "output_type": "stream",
     "text": [
      "/tmp/ipykernel_431803/2842679918.py:12: FutureWarning: `draw.circle` is deprecated in favor of `draw.disk`.`draw.circle` will be removed in version 0.19\n",
      "  circy, circx = circle(center_y, center_x, radius)\n"
     ]
    }
   ],
   "source": [
    "img = detect_circles(image)"
   ]
  },
  {
   "cell_type": "code",
   "execution_count": 27,
   "id": "5e92b3a0",
   "metadata": {},
   "outputs": [
    {
     "name": "stderr",
     "output_type": "stream",
     "text": [
      "Clipping input data to the valid range for imshow with RGB data ([0..1] for floats or [0..255] for integers).\n"
     ]
    },
    {
     "data": {
      "text/plain": [
       "<matplotlib.image.AxesImage at 0x7f7a604aee50>"
      ]
     },
     "execution_count": 27,
     "metadata": {},
     "output_type": "execute_result"
    }
   ],
   "source": [
    "plt.imshow(img)"
   ]
  },
  {
   "cell_type": "code",
   "execution_count": null,
   "id": "02a1ce27",
   "metadata": {},
   "outputs": [],
   "source": []
  },
  {
   "cell_type": "code",
   "execution_count": null,
   "id": "31048f6b",
   "metadata": {},
   "outputs": [],
   "source": [
    "radii"
   ]
  },
  {
   "cell_type": "code",
   "execution_count": null,
   "id": "a545dee0",
   "metadata": {},
   "outputs": [],
   "source": [
    "cx"
   ]
  },
  {
   "cell_type": "code",
   "execution_count": null,
   "id": "644b61c0",
   "metadata": {},
   "outputs": [],
   "source": [
    "\n",
    "cy"
   ]
  },
  {
   "cell_type": "code",
   "execution_count": null,
   "id": "565414f4",
   "metadata": {},
   "outputs": [],
   "source": []
  }
 ],
 "metadata": {
  "kernelspec": {
   "display_name": "Python 3 (ipykernel)",
   "language": "python",
   "name": "python3"
  },
  "language_info": {
   "codemirror_mode": {
    "name": "ipython",
    "version": 3
   },
   "file_extension": ".py",
   "mimetype": "text/x-python",
   "name": "python",
   "nbconvert_exporter": "python",
   "pygments_lexer": "ipython3",
   "version": "3.9.7"
  }
 },
 "nbformat": 4,
 "nbformat_minor": 5
}
