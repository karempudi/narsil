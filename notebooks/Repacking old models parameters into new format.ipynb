{
 "cells": [
  {
   "cell_type": "code",
   "execution_count": 2,
   "id": "946f9685",
   "metadata": {},
   "outputs": [],
   "source": [
    "%reload_ext autoreload\n",
    "%autoreload 2\n",
    "%matplotlib qt5"
   ]
  },
  {
   "cell_type": "code",
   "execution_count": 3,
   "id": "b1ec09cb",
   "metadata": {},
   "outputs": [],
   "source": [
    "import numpy as np\n",
    "import torch\n",
    "import torch.nn as nn"
   ]
  },
  {
   "cell_type": "code",
   "execution_count": 4,
   "id": "92649b4b",
   "metadata": {},
   "outputs": [],
   "source": [
    "from pathlib import Path"
   ]
  },
  {
   "cell_type": "code",
   "execution_count": 5,
   "id": "125fca0c",
   "metadata": {},
   "outputs": [],
   "source": [
    "model1 = torch.load('/home/pk/Documents/models/mixed10epochs_betterscale_contrastAdjusted.pth')"
   ]
  },
  {
   "cell_type": "code",
   "execution_count": 6,
   "id": "d63dc84d",
   "metadata": {},
   "outputs": [
    {
     "data": {
      "text/plain": [
       "dict_keys(['modelParameters', 'optimizationParameters', 'trasnformsUsed', 'species', 'model_state_dict'])"
      ]
     },
     "execution_count": 6,
     "metadata": {},
     "output_type": "execute_result"
    }
   ],
   "source": [
    "model1.keys()"
   ]
  },
  {
   "cell_type": "code",
   "execution_count": 7,
   "id": "b537ff61",
   "metadata": {},
   "outputs": [
    {
     "data": {
      "text/plain": [
       "['ecoli', 'pseudomonas', 'empty']"
      ]
     },
     "execution_count": 7,
     "metadata": {},
     "output_type": "execute_result"
    }
   ],
   "source": [
    "model1['species']"
   ]
  },
  {
   "cell_type": "code",
   "execution_count": 8,
   "id": "3738e6f7",
   "metadata": {},
   "outputs": [
    {
     "data": {
      "text/plain": [
       "{'netType': 'big',\n",
       " 'transposeConv': True,\n",
       " 'device': 'cuda:1',\n",
       " 'includeWeights': True}"
      ]
     },
     "execution_count": 8,
     "metadata": {},
     "output_type": "execute_result"
    }
   ],
   "source": [
    "model1['modelParameters']"
   ]
  },
  {
   "cell_type": "code",
   "execution_count": 9,
   "id": "0777ae02",
   "metadata": {},
   "outputs": [],
   "source": [
    "model2 = torch.load('/home/pk/Documents/models/smallTransposeNoise.pth')"
   ]
  },
  {
   "cell_type": "code",
   "execution_count": 10,
   "id": "46fcdebc",
   "metadata": {},
   "outputs": [
    {
     "data": {
      "text/plain": [
       "dict_keys(['model_type', 'model_state_dict', 'optimizer_state_dict'])"
      ]
     },
     "execution_count": 10,
     "metadata": {},
     "output_type": "execute_result"
    }
   ],
   "source": [
    "model2.keys()"
   ]
  },
  {
   "cell_type": "code",
   "execution_count": 14,
   "id": "67d35ea3",
   "metadata": {},
   "outputs": [],
   "source": [
    "new_model = {}\n",
    "new_model['modelParameters'] = {\n",
    "    'netType': 'small',\n",
    "    'transposeConv': True,\n",
    "    'device': 'cuda:1',\n",
    "}\n",
    "new_model['model_state_dict'] = model2['model_state_dict']"
   ]
  },
  {
   "cell_type": "code",
   "execution_count": 15,
   "id": "8949d9b6",
   "metadata": {},
   "outputs": [],
   "source": [
    "torch.save(new_model, '/home/pk/Documents/models/smallModel_repacked.pth')"
   ]
  },
  {
   "cell_type": "code",
   "execution_count": null,
   "id": "741cc2f7",
   "metadata": {},
   "outputs": [],
   "source": []
  }
 ],
 "metadata": {
  "kernelspec": {
   "display_name": "Python 3 (ipykernel)",
   "language": "python",
   "name": "python3"
  },
  "language_info": {
   "codemirror_mode": {
    "name": "ipython",
    "version": 3
   },
   "file_extension": ".py",
   "mimetype": "text/x-python",
   "name": "python",
   "nbconvert_exporter": "python",
   "pygments_lexer": "ipython3",
   "version": "3.9.7"
  }
 },
 "nbformat": 4,
 "nbformat_minor": 5
}
