{
 "cells": [
  {
   "cell_type": "code",
   "execution_count": 1,
   "id": "9cdd5089",
   "metadata": {},
   "outputs": [],
   "source": [
    "%reload_ext autoreload\n",
    "%autoreload 2\n",
    "%matplotlib inline"
   ]
  },
  {
   "cell_type": "code",
   "execution_count": 2,
   "id": "3046dbde",
   "metadata": {},
   "outputs": [],
   "source": [
    "import numpy as np\n",
    "import json\n",
    "from collections import OrderedDict"
   ]
  },
  {
   "cell_type": "code",
   "execution_count": 3,
   "id": "876a97c7",
   "metadata": {},
   "outputs": [],
   "source": [
    "positionsFile = '/home/pk/Documents/EXP-21-BY1006/pos.pos'"
   ]
  },
  {
   "cell_type": "code",
   "execution_count": 4,
   "id": "f23b7a95",
   "metadata": {},
   "outputs": [],
   "source": [
    "with open(positionsFile) as json_file:\n",
    "    data = json.load(json_file)"
   ]
  },
  {
   "cell_type": "code",
   "execution_count": 6,
   "id": "f38dc6c1",
   "metadata": {},
   "outputs": [
    {
     "data": {
      "text/plain": [
       "dict_keys(['VERSION', 'ID', 'POSITIONS'])"
      ]
     },
     "execution_count": 6,
     "metadata": {},
     "output_type": "execute_result"
    }
   ],
   "source": [
    "data.keys()"
   ]
  },
  {
   "cell_type": "code",
   "execution_count": 11,
   "id": "fabc3ffb",
   "metadata": {},
   "outputs": [
    {
     "data": {
      "text/plain": [
       "{'GRID_COL': 0,\n",
       " 'DEVICES': [{'DEVICE': 'TIPFSOffset', 'AXES': 1, 'Y': 0, 'X': 6603, 'Z': 0},\n",
       "  {'DEVICE': 'TIXYDrive', 'AXES': 2, 'Y': -1060.9, 'X': 1091.8, 'Z': 0}],\n",
       " 'PROPERTIES': {},\n",
       " 'DEFAULT_Z_STAGE': 'TIPFSOffset',\n",
       " 'LABEL': 'Pos0',\n",
       " 'GRID_ROW': 0,\n",
       " 'DEFAULT_XY_STAGE': 'TIXYDrive'}"
      ]
     },
     "execution_count": 11,
     "metadata": {},
     "output_type": "execute_result"
    }
   ],
   "source": [
    "data['POSITIONS'][0]"
   ]
  },
  {
   "cell_type": "code",
   "execution_count": 12,
   "id": "761dc606",
   "metadata": {},
   "outputs": [
    {
     "data": {
      "text/plain": [
       "{'GRID_COL': 0,\n",
       " 'DEVICES': [{'DEVICE': 'TIPFSOffset', 'AXES': 1, 'Y': 0, 'X': 6603, 'Z': 0},\n",
       "  {'DEVICE': 'TIXYDrive', 'AXES': 2, 'Y': -1060.9, 'X': 1091.8, 'Z': 0}],\n",
       " 'PROPERTIES': {},\n",
       " 'DEFAULT_Z_STAGE': 'TIPFSOffset',\n",
       " 'LABEL': 'Pos1',\n",
       " 'GRID_ROW': 0,\n",
       " 'DEFAULT_XY_STAGE': 'TIXYDrive'}"
      ]
     },
     "execution_count": 12,
     "metadata": {},
     "output_type": "execute_result"
    }
   ],
   "source": [
    "data['POSITIONS'][1]"
   ]
  },
  {
   "cell_type": "code",
   "execution_count": null,
   "id": "269fdddd",
   "metadata": {},
   "outputs": [],
   "source": []
  },
  {
   "cell_type": "code",
   "execution_count": null,
   "id": "94c3d953",
   "metadata": {},
   "outputs": [],
   "source": []
  }
 ],
 "metadata": {
  "kernelspec": {
   "display_name": "Python 3 (ipykernel)",
   "language": "python",
   "name": "python3"
  },
  "language_info": {
   "codemirror_mode": {
    "name": "ipython",
    "version": 3
   },
   "file_extension": ".py",
   "mimetype": "text/x-python",
   "name": "python",
   "nbconvert_exporter": "python",
   "pygments_lexer": "ipython3",
   "version": "3.9.7"
  }
 },
 "nbformat": 4,
 "nbformat_minor": 5
}
