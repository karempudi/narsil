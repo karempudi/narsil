{
 "cells": [
  {
   "cell_type": "code",
   "execution_count": 5,
   "id": "a6f50f1a",
   "metadata": {},
   "outputs": [],
   "source": [
    "%reload_ext autoreload\n",
    "%autoreload 2\n",
    "%matplotlib inline"
   ]
  },
  {
   "cell_type": "code",
   "execution_count": 6,
   "id": "3c9fc585",
   "metadata": {},
   "outputs": [],
   "source": [
    "import numpy as np\n",
    "import json\n",
    "from collections import OrderedDict"
   ]
  },
  {
   "cell_type": "code",
   "execution_count": 7,
   "id": "8d38fd90",
   "metadata": {},
   "outputs": [],
   "source": [
    "positionsFile = '/home/pk/Documents/models/PositionList210824.pos'"
   ]
  },
  {
   "cell_type": "code",
   "execution_count": 8,
   "id": "be457c9b",
   "metadata": {},
   "outputs": [],
   "source": [
    "with open(positionsFile) as json_file:\n",
    "    data = json.load(json_file)"
   ]
  },
  {
   "cell_type": "code",
   "execution_count": 9,
   "id": "16280288",
   "metadata": {},
   "outputs": [
    {
     "data": {
      "text/plain": [
       "dict_keys(['encoding', 'format', 'major_version', 'minor_version', 'map'])"
      ]
     },
     "execution_count": 9,
     "metadata": {},
     "output_type": "execute_result"
    }
   ],
   "source": [
    "data.keys()"
   ]
  },
  {
   "cell_type": "code",
   "execution_count": 16,
   "id": "8b4156d9",
   "metadata": {},
   "outputs": [
    {
     "data": {
      "text/plain": [
       "[{'Device': {'type': 'STRING', 'scalar': 'PFSOffset'},\n",
       "  'Position_um': {'type': 'DOUBLE', 'array': [10588.0]}},\n",
       " {'Device': {'type': 'STRING', 'scalar': 'XYStage'},\n",
       "  'Position_um': {'type': 'DOUBLE', 'array': [2104.4, 505.20000000000005]}}]"
      ]
     },
     "execution_count": 16,
     "metadata": {},
     "output_type": "execute_result"
    }
   ],
   "source": [
    "data['map']['StagePositions']['array'][1]['DevicePositions']['array']"
   ]
  },
  {
   "cell_type": "code",
   "execution_count": null,
   "id": "77b67a51",
   "metadata": {},
   "outputs": [],
   "source": []
  },
  {
   "cell_type": "code",
   "execution_count": null,
   "id": "266c5014",
   "metadata": {},
   "outputs": [],
   "source": []
  },
  {
   "cell_type": "code",
   "execution_count": 11,
   "id": "9d8194aa",
   "metadata": {},
   "outputs": [
    {
     "data": {
      "text/plain": [
       "{'GRID_COL': 0,\n",
       " 'DEVICES': [{'DEVICE': 'TIPFSOffset', 'AXES': 1, 'Y': 0, 'X': 6603, 'Z': 0},\n",
       "  {'DEVICE': 'TIXYDrive', 'AXES': 2, 'Y': -1060.9, 'X': 1091.8, 'Z': 0}],\n",
       " 'PROPERTIES': {},\n",
       " 'DEFAULT_Z_STAGE': 'TIPFSOffset',\n",
       " 'LABEL': 'Pos0',\n",
       " 'GRID_ROW': 0,\n",
       " 'DEFAULT_XY_STAGE': 'TIXYDrive'}"
      ]
     },
     "execution_count": 11,
     "metadata": {},
     "output_type": "execute_result"
    }
   ],
   "source": [
    "data['POSITIONS'][0]"
   ]
  },
  {
   "cell_type": "code",
   "execution_count": 12,
   "id": "c68ba56e",
   "metadata": {},
   "outputs": [
    {
     "data": {
      "text/plain": [
       "{'GRID_COL': 0,\n",
       " 'DEVICES': [{'DEVICE': 'TIPFSOffset', 'AXES': 1, 'Y': 0, 'X': 6603, 'Z': 0},\n",
       "  {'DEVICE': 'TIXYDrive', 'AXES': 2, 'Y': -1060.9, 'X': 1091.8, 'Z': 0}],\n",
       " 'PROPERTIES': {},\n",
       " 'DEFAULT_Z_STAGE': 'TIPFSOffset',\n",
       " 'LABEL': 'Pos1',\n",
       " 'GRID_ROW': 0,\n",
       " 'DEFAULT_XY_STAGE': 'TIXYDrive'}"
      ]
     },
     "execution_count": 12,
     "metadata": {},
     "output_type": "execute_result"
    }
   ],
   "source": [
    "data['POSITIONS'][1]"
   ]
  },
  {
   "cell_type": "code",
   "execution_count": null,
   "id": "dc94e140",
   "metadata": {},
   "outputs": [],
   "source": []
  },
  {
   "cell_type": "code",
   "execution_count": null,
   "id": "6ae59f8d",
   "metadata": {},
   "outputs": [],
   "source": []
  }
 ],
 "metadata": {
  "kernelspec": {
   "display_name": "Python 3 (ipykernel)",
   "language": "python",
   "name": "python3"
  },
  "language_info": {
   "codemirror_mode": {
    "name": "ipython",
    "version": 3
   },
   "file_extension": ".py",
   "mimetype": "text/x-python",
   "name": "python",
   "nbconvert_exporter": "python",
   "pygments_lexer": "ipython3",
   "version": "3.9.7"
  }
 },
 "nbformat": 4,
 "nbformat_minor": 5
}
