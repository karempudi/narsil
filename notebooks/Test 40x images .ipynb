{
 "cells": [
  {
   "cell_type": "code",
   "execution_count": 1,
   "metadata": {},
   "outputs": [],
   "source": [
    "%reload_ext autoreload\n",
    "%autoreload 2\n",
    "%matplotlib qt5"
   ]
  },
  {
   "cell_type": "code",
   "execution_count": 2,
   "metadata": {},
   "outputs": [],
   "source": [
    "import narsil\n",
    "from narsil.segmentation.run import loadNet, segmentPosDirectory\n",
    "from torchvision import transforms\n",
    "import matplotlib.pyplot as plt\n",
    "from skimage.io import imread\n",
    "import torch\n",
    "from narsil.liverun.utils import resizeOneImage, tensorizeOneImage\n",
    "import numpy as np\n",
    "from scipy.signal import find_peaks"
   ]
  },
  {
   "cell_type": "code",
   "execution_count": 3,
   "metadata": {},
   "outputs": [],
   "source": [
    "rootDir = '/mnt/sda2/Praneeth/ASTFISH/'\n",
    "models = {\n",
    "    'cells' : rootDir + 'ASTPaper/segModels/mixed10epochs_betterscale_contrastAdjusted.pth',\n",
    "    'channels' : rootDir + 'ASTPaper/segModels/channels.pth'\n",
    "}\n",
    "device = \"cuda:1\""
   ]
  },
  {
   "cell_type": "code",
   "execution_count": 4,
   "metadata": {},
   "outputs": [],
   "source": [
    "cellSegNet = loadNet(models['cells'], device)"
   ]
  },
  {
   "cell_type": "code",
   "execution_count": 5,
   "metadata": {},
   "outputs": [],
   "source": [
    "channelSegNet = loadNet(models['channels'], device)"
   ]
  },
  {
   "cell_type": "code",
   "execution_count": 6,
   "metadata": {},
   "outputs": [],
   "source": [
    "def runNet(net, imgFileName):\n",
    "    img = imread(imgFileName)\n",
    "    img = (img - np.mean(img))/np.std(img)\n",
    "    imgTransformations = transforms.Compose([resizeOneImage((1504, 4096), (1504, 4096)),\n",
    "                                 tensorizeOneImage(2)])\n",
    "    output = net(imgTransformations(img).to(device))\n",
    "    output = torch.sigmoid(output)\n",
    "    out_numpy = output.cpu().detach().numpy().squeeze(0).squeeze(0)\n",
    "    \n",
    "    return out_numpy"
   ]
  },
  {
   "cell_type": "code",
   "execution_count": 7,
   "metadata": {},
   "outputs": [],
   "source": [
    "for position in range(122, 130):\n",
    "    imgFileName = '/mnt/sda1/Praneeth/EXP-20-BP0361 75k imaging 6ugml/after loading/Pos' + str(position) + '/phaseFast/img_000000000.tiff'\n",
    "    channelSegMask = runNet(channelSegNet, imgFileName)\n",
    "    plt.figure()\n",
    "    plt.imshow(channelSegMask)\n",
    "    plt.show()"
   ]
  },
  {
   "cell_type": "code",
   "execution_count": 9,
   "metadata": {},
   "outputs": [
    {
     "data": {
      "text/plain": [
       "<matplotlib.image.AxesImage at 0x7f73b011f828>"
      ]
     },
     "execution_count": 9,
     "metadata": {},
     "output_type": "execute_result"
    }
   ],
   "source": [
    "plt.imshow(channelSegMask)"
   ]
  },
  {
   "cell_type": "code",
   "execution_count": 10,
   "metadata": {},
   "outputs": [
    {
     "data": {
      "text/plain": [
       "array([41.346973 ,  5.495246 ,  5.6024246, ...,  7.6095085, 10.837442 ,\n",
       "       68.894325 ], dtype=float32)"
      ]
     },
     "execution_count": 10,
     "metadata": {},
     "output_type": "execute_result"
    }
   ],
   "source": [
    "np.sum(channelSegMask, axis = 1)"
   ]
  },
  {
   "cell_type": "code",
   "execution_count": null,
   "metadata": {},
   "outputs": [],
   "source": []
  }
 ],
 "metadata": {
  "kernelspec": {
   "display_name": "Python 3",
   "language": "python",
   "name": "python3"
  },
  "language_info": {
   "codemirror_mode": {
    "name": "ipython",
    "version": 3
   },
   "file_extension": ".py",
   "mimetype": "text/x-python",
   "name": "python",
   "nbconvert_exporter": "python",
   "pygments_lexer": "ipython3",
   "version": "3.6.9"
  }
 },
 "nbformat": 4,
 "nbformat_minor": 2
}
