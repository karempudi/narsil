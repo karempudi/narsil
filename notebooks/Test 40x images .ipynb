{
 "cells": [
  {
   "cell_type": "code",
   "execution_count": 1,
   "metadata": {},
   "outputs": [],
   "source": [
    "%reload_ext autoreload\n",
    "%autoreload 2\n",
    "%matplotlib qt5"
   ]
  },
  {
   "cell_type": "code",
   "execution_count": 2,
   "metadata": {},
   "outputs": [],
   "source": [
    "import narsil\n",
    "from narsil.segmentation.run import loadNet, segmentPosDirectory\n",
    "from torchvision import transforms\n",
    "import matplotlib.pyplot as plt\n",
    "from skimage.io import imread\n",
    "import torch\n",
    "from narsil.liverun.utils import resizeOneImage, tensorizeOneImage\n",
    "import numpy as np\n",
    "from scipy.signal import find_peaks\n",
    "from pathlib import Path\n",
    "import glob"
   ]
  },
  {
   "cell_type": "code",
   "execution_count": 3,
   "metadata": {},
   "outputs": [],
   "source": [
    "path = Path(\"C:\\\\Users\\\\Praneeth\\\\Documents\\\\Elflab\\\\Code\\\\testdata\\\\analysisData\\\\\")"
   ]
  },
  {
   "cell_type": "code",
   "execution_count": 4,
   "metadata": {},
   "outputs": [],
   "source": [
    "filenames = list(path.glob(\"*.tiff\"))"
   ]
  },
  {
   "cell_type": "code",
   "execution_count": 5,
   "metadata": {},
   "outputs": [
    {
     "data": {
      "text/plain": [
       "WindowsPath('C:/Users/Praneeth/Documents/Elflab/Code/testdata/analysisData/0_0.tiff')"
      ]
     },
     "execution_count": 5,
     "metadata": {},
     "output_type": "execute_result"
    }
   ],
   "source": [
    "filenames[0]"
   ]
  },
  {
   "cell_type": "code",
   "execution_count": 6,
   "metadata": {},
   "outputs": [],
   "source": [
    "phase_filename = Path(\"C:\\\\Users\\\\Praneeth\\\\Documents\\\\Elflab\\\\Code\\\\testdata\\\\hetero40x\\\\Pos100\\\\phaseFast\\\\img_000000000.tiff\")"
   ]
  },
  {
   "cell_type": "code",
   "execution_count": 7,
   "metadata": {},
   "outputs": [
    {
     "data": {
      "text/plain": [
       "WindowsPath('C:/Users/Praneeth/Documents/Elflab/Code/testdata/analysisData/0_0.tiff')"
      ]
     },
     "execution_count": 7,
     "metadata": {},
     "output_type": "execute_result"
    }
   ],
   "source": [
    "filenames[0]"
   ]
  },
  {
   "cell_type": "code",
   "execution_count": 8,
   "metadata": {},
   "outputs": [],
   "source": [
    "mask_img = imread(filenames[0])\n",
    "phase_img = imread(phase_filename)"
   ]
  },
  {
   "cell_type": "code",
   "execution_count": 9,
   "metadata": {},
   "outputs": [
    {
     "data": {
      "text/plain": [
       "<matplotlib.image.AxesImage at 0x136b614eb50>"
      ]
     },
     "execution_count": 9,
     "metadata": {},
     "output_type": "execute_result"
    }
   ],
   "source": [
    "plt.imshow(phase_img, cmap='gray')"
   ]
  },
  {
   "cell_type": "code",
   "execution_count": 10,
   "metadata": {},
   "outputs": [
    {
     "data": {
      "text/plain": [
       "<matplotlib.image.AxesImage at 0x136b281cd00>"
      ]
     },
     "execution_count": 10,
     "metadata": {},
     "output_type": "execute_result"
    }
   ],
   "source": [
    "plt.imshow(mask_img)"
   ]
  },
  {
   "cell_type": "markdown",
   "metadata": {},
   "source": [
    "### Generating histograms to cut channels and blocks"
   ]
  },
  {
   "cell_type": "code",
   "execution_count": null,
   "metadata": {},
   "outputs": [],
   "source": []
  },
  {
   "cell_type": "code",
   "execution_count": 65,
   "metadata": {},
   "outputs": [],
   "source": [
    "def getAllBarcodes(mask_img, phase_image, minPeaksDistance=25, barcodeWidth=48,\n",
    "                   minChannelLength=100, rowThreshold=10000,\n",
    "                   plot=False):\n",
    "    hist = np.sum(mask_img, axis = 0) > minChannelLength\n",
    "    peaks, _ = find_peaks(hist, distance = minPeaksDistance)\n",
    "    indices_with_larger_gaps = np.where(np.ediff1d(peaks) > barcodeWidth)[0]\n",
    "    \n",
    "    locations_before_barcode = peaks[indices_with_larger_gaps]\n",
    "    locations_after_barcode = peaks[indices_with_larger_gaps + 1]\n",
    "    \n",
    "    # take the mean to obtain approximate center of the barcode region\n",
    "    \n",
    "    locations_barcode = np.rint(np.mean((locations_before_barcode,\n",
    "                                        locations_after_barcode), axis=0)).astype('int')\n",
    "    \n",
    "    # now grab all the barcode images\n",
    "    # we get the column numbers from the locations_barcode\n",
    "    # but we need to find the row numbers, somehow. \n",
    "    # We use the same histogram and sum and threshold \n",
    "    sum_rows = np.sum(mask_img, axis = 1).astype('int')\n",
    "    row_locations = np.argwhere(np.diff(np.sign(sum_rows - rowThreshold))).flatten()\n",
    "    if len(row_locations) !=2:\n",
    "        row_x1 = 400\n",
    "        row_x2 = 1200\n",
    "    else:\n",
    "        row_x1 = row_locations[0]\n",
    "        row_x2 = row_locations[1]\n",
    "    # on 40x the channels size will be approximately.\n",
    "    \n",
    "    barcode_images = []\n",
    "    for location in locations_barcode:\n",
    "        barcode_img = phase_img[row_x1:row_x2, location-barcodeWidth//2 : location+barcodeWidth//2]\n",
    "        barcode_images.append(barcode_img)\n",
    "        \n",
    "    if plot:\n",
    "        plt.figure(figsize=(16,5))\n",
    "        plt.plot(hist)\n",
    "        plt.plot(peaks, hist[peaks],'r*')\n",
    "        plt.plot(locations_before_barcode, hist[locations_before_barcode], 'k*')\n",
    "        plt.plot(locations_after_barcode, hist[locations_after_barcode], 'g*')\n",
    "        plt.show()\n",
    "    return locations_barcode, barcode_images\n",
    "\n",
    "def getAllChannels():\n",
    "    pass"
   ]
  },
  {
   "cell_type": "code",
   "execution_count": 66,
   "metadata": {},
   "outputs": [],
   "source": [
    "locations_barcode, barcode_images = getAllBarcodes(mask_img, phase_img, plot=True)"
   ]
  },
  {
   "cell_type": "code",
   "execution_count": 69,
   "metadata": {},
   "outputs": [
    {
     "data": {
      "text/plain": [
       "<matplotlib.image.AxesImage at 0x136ba5c2a00>"
      ]
     },
     "execution_count": 69,
     "metadata": {},
     "output_type": "execute_result"
    }
   ],
   "source": [
    "plt.imshow(barcode_images[2])"
   ]
  },
  {
   "cell_type": "code",
   "execution_count": null,
   "metadata": {},
   "outputs": [],
   "source": []
  }
 ],
 "metadata": {
  "kernelspec": {
   "display_name": "Python 3",
   "language": "python",
   "name": "python3"
  },
  "language_info": {
   "codemirror_mode": {
    "name": "ipython",
    "version": 3
   },
   "file_extension": ".py",
   "mimetype": "text/x-python",
   "name": "python",
   "nbconvert_exporter": "python",
   "pygments_lexer": "ipython3",
   "version": "3.9.2"
  }
 },
 "nbformat": 4,
 "nbformat_minor": 2
}
