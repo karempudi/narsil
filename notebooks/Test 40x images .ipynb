{
 "cells": [
  {
   "cell_type": "code",
   "execution_count": 20,
   "metadata": {},
   "outputs": [],
   "source": [
    "%reload_ext autoreload\n",
    "%autoreload 2\n",
    "%matplotlib qt5"
   ]
  },
  {
   "cell_type": "code",
   "execution_count": 21,
   "metadata": {},
   "outputs": [],
   "source": [
    "import narsil\n",
    "from narsil.segmentation.run import loadNet, segmentPosDirectory\n",
    "from torchvision import transforms\n",
    "import matplotlib.pyplot as plt\n",
    "from skimage.io import imread\n",
    "import torch\n",
    "from narsil.liverun.utils import resizeOneImage, tensorizeOneImage\n",
    "import numpy as np\n",
    "from scipy.signal import find_peaks\n",
    "from pathlib import Path\n",
    "import glob\n",
    "from skimage.morphology import remove_small_objects"
   ]
  },
  {
   "cell_type": "code",
   "execution_count": 22,
   "metadata": {},
   "outputs": [],
   "source": [
    "path = Path(\"C:\\\\Users\\\\Praneeth\\\\Documents\\\\Elflab\\\\Code\\\\testdata\\\\analysisData\\\\\")"
   ]
  },
  {
   "cell_type": "code",
   "execution_count": 23,
   "metadata": {},
   "outputs": [],
   "source": [
    "mask_filenames = []\n",
    "for i in range(9):\n",
    "    filename = path/str(i)/ \"channelSegmentation\"/ \"0.tiff\"\n",
    "    mask_filenames.append(filename)"
   ]
  },
  {
   "cell_type": "code",
   "execution_count": 24,
   "metadata": {},
   "outputs": [
    {
     "data": {
      "text/plain": [
       "[WindowsPath('C:/Users/Praneeth/Documents/Elflab/Code/testdata/analysisData/0/channelSegmentation/0.tiff'),\n",
       " WindowsPath('C:/Users/Praneeth/Documents/Elflab/Code/testdata/analysisData/1/channelSegmentation/0.tiff'),\n",
       " WindowsPath('C:/Users/Praneeth/Documents/Elflab/Code/testdata/analysisData/2/channelSegmentation/0.tiff'),\n",
       " WindowsPath('C:/Users/Praneeth/Documents/Elflab/Code/testdata/analysisData/3/channelSegmentation/0.tiff'),\n",
       " WindowsPath('C:/Users/Praneeth/Documents/Elflab/Code/testdata/analysisData/4/channelSegmentation/0.tiff'),\n",
       " WindowsPath('C:/Users/Praneeth/Documents/Elflab/Code/testdata/analysisData/5/channelSegmentation/0.tiff'),\n",
       " WindowsPath('C:/Users/Praneeth/Documents/Elflab/Code/testdata/analysisData/6/channelSegmentation/0.tiff'),\n",
       " WindowsPath('C:/Users/Praneeth/Documents/Elflab/Code/testdata/analysisData/7/channelSegmentation/0.tiff'),\n",
       " WindowsPath('C:/Users/Praneeth/Documents/Elflab/Code/testdata/analysisData/8/channelSegmentation/0.tiff')]"
      ]
     },
     "execution_count": 24,
     "metadata": {},
     "output_type": "execute_result"
    }
   ],
   "source": [
    "mask_filenames"
   ]
  },
  {
   "cell_type": "code",
   "execution_count": 6,
   "metadata": {},
   "outputs": [],
   "source": [
    "mask_img = imread(mask_filenames[6]).astype('bool')\n",
    "mask_img = remove_small_objects(mask_img, min_size = 1000)"
   ]
  },
  {
   "cell_type": "code",
   "execution_count": 7,
   "metadata": {},
   "outputs": [
    {
     "data": {
      "text/plain": [
       "WindowsPath('C:/Users/Praneeth/Documents/Elflab/Code/testdata/analysisData/6/channelSegmentation/0.tiff')"
      ]
     },
     "execution_count": 7,
     "metadata": {},
     "output_type": "execute_result"
    }
   ],
   "source": [
    "mask_filenames[6]"
   ]
  },
  {
   "cell_type": "code",
   "execution_count": null,
   "metadata": {},
   "outputs": [],
   "source": []
  },
  {
   "cell_type": "code",
   "execution_count": 8,
   "metadata": {},
   "outputs": [
    {
     "data": {
      "text/plain": [
       "<matplotlib.image.AxesImage at 0x28fd060d760>"
      ]
     },
     "execution_count": 8,
     "metadata": {},
     "output_type": "execute_result"
    }
   ],
   "source": [
    "plt.imshow(mask_img)"
   ]
  },
  {
   "cell_type": "code",
   "execution_count": 9,
   "metadata": {},
   "outputs": [],
   "source": [
    "hist = np.sum(mask_img, axis = 0)"
   ]
  },
  {
   "cell_type": "code",
   "execution_count": 42,
   "metadata": {},
   "outputs": [
    {
     "data": {
      "text/plain": [
       "[<matplotlib.lines.Line2D at 0x1ed5897a160>]"
      ]
     },
     "execution_count": 42,
     "metadata": {},
     "output_type": "execute_result"
    }
   ],
   "source": [
    "plt.plot(hist)"
   ]
  },
  {
   "cell_type": "code",
   "execution_count": 10,
   "metadata": {},
   "outputs": [],
   "source": [
    "peaks, _ = find_peaks(hist, distance = 25)"
   ]
  },
  {
   "cell_type": "code",
   "execution_count": 11,
   "metadata": {},
   "outputs": [
    {
     "data": {
      "text/plain": [
       "array([  11,   43,   78,  115,  151,  187,  228,  291,  327,  364,  398,\n",
       "        434,  468,  503,  540,  574,  609,  643,  680,  716,  751,  782,\n",
       "        821,  853,  888,  923,  957,  998, 1060, 1098, 1132, 1167, 1202,\n",
       "       1239, 1273, 1307, 1344, 1380, 1412, 1446, 1482, 1518, 1552, 1587,\n",
       "       1623, 1662, 1695, 1727, 1770, 1830, 1867, 1902, 1936, 1971, 2009,\n",
       "       2043, 2081, 2116, 2147, 2181, 2220, 2255, 2287, 2321, 2357, 2396,\n",
       "       2431, 2464, 2498, 2537, 2599, 2637, 2674, 2708, 2743, 2779, 2813,\n",
       "       2847, 2883, 2919, 2951, 2988, 3022, 3061, 3092, 3128, 3162, 3197,\n",
       "       3234, 3273, 3308, 3374, 3409, 3445, 3480, 3515, 3550, 3587, 3621,\n",
       "       3658, 3692, 3727, 3764, 3798, 3834, 3869, 3906, 3940, 3975, 4011,\n",
       "       4047, 4082], dtype=int64)"
      ]
     },
     "execution_count": 11,
     "metadata": {},
     "output_type": "execute_result"
    }
   ],
   "source": [
    "peaks"
   ]
  },
  {
   "cell_type": "code",
   "execution_count": 12,
   "metadata": {},
   "outputs": [],
   "source": [
    "indices_with_larger_gaps = np.where(np.ediff1d(peaks) > 48)[0]"
   ]
  },
  {
   "cell_type": "code",
   "execution_count": 13,
   "metadata": {},
   "outputs": [],
   "source": [
    "locations_before_barcode = peaks[indices_with_larger_gaps]\n",
    "locations_after_barcode = peaks[indices_with_larger_gaps + 1]\n",
    "\n",
    "# take the mean to obtain approximate center of the barcode region\n",
    "\n",
    "locations_barcode = np.rint(np.mean((locations_before_barcode,\n",
    "                                    locations_after_barcode), axis=0)).astype('int')"
   ]
  },
  {
   "cell_type": "code",
   "execution_count": 31,
   "metadata": {},
   "outputs": [],
   "source": [
    "plt.figure(figsize=(16,5))\n",
    "plt.plot(hist)\n",
    "plt.plot(peaks, hist[peaks],'r*')\n",
    "plt.plot(locations_before_barcode, hist[locations_before_barcode], 'k*')\n",
    "plt.plot(locations_after_barcode, hist[locations_after_barcode], 'g*')\n",
    "plt.show()"
   ]
  },
  {
   "cell_type": "code",
   "execution_count": 14,
   "metadata": {},
   "outputs": [
    {
     "data": {
      "text/plain": [
       "array([ 260, 1029, 1800, 2568, 3341])"
      ]
     },
     "execution_count": 14,
     "metadata": {},
     "output_type": "execute_result"
    }
   ],
   "source": [
    "locations_barcode"
   ]
  },
  {
   "cell_type": "code",
   "execution_count": 15,
   "metadata": {},
   "outputs": [
    {
     "data": {
      "text/plain": [
       "array([  11,   43,   78,  115,  151,  187,  228,  291,  327,  364,  398,\n",
       "        434,  468,  503,  540,  574,  609,  643,  680,  716,  751,  782,\n",
       "        821,  853,  888,  923,  957,  998, 1060, 1098, 1132, 1167, 1202,\n",
       "       1239, 1273, 1307, 1344, 1380, 1412, 1446, 1482, 1518, 1552, 1587,\n",
       "       1623, 1662, 1695, 1727, 1770, 1830, 1867, 1902, 1936, 1971, 2009,\n",
       "       2043, 2081, 2116, 2147, 2181, 2220, 2255, 2287, 2321, 2357, 2396,\n",
       "       2431, 2464, 2498, 2537, 2599, 2637, 2674, 2708, 2743, 2779, 2813,\n",
       "       2847, 2883, 2919, 2951, 2988, 3022, 3061, 3092, 3128, 3162, 3197,\n",
       "       3234, 3273, 3308, 3374, 3409, 3445, 3480, 3515, 3550, 3587, 3621,\n",
       "       3658, 3692, 3727, 3764, 3798, 3834, 3869, 3906, 3940, 3975, 4011,\n",
       "       4047, 4082], dtype=int64)"
      ]
     },
     "execution_count": 15,
     "metadata": {},
     "output_type": "execute_result"
    }
   ],
   "source": [
    "# count the number of peaks before and after the locations\n",
    "peaks"
   ]
  },
  {
   "cell_type": "markdown",
   "metadata": {},
   "source": [
    "### Mark 21 channels before the barcode if they are there before reaching the previous barcode, and accumulate the peaks"
   ]
  },
  {
   "cell_type": "code",
   "execution_count": 16,
   "metadata": {},
   "outputs": [
    {
     "data": {
      "text/plain": [
       "array([  11,   43,   78,  115,  151,  187,  228,  291,  327,  364,  398,\n",
       "        434,  468,  503,  540,  574,  609,  643,  680,  716,  751,  782,\n",
       "        821,  853,  888,  923,  957,  998, 1060, 1098, 1132, 1167, 1202,\n",
       "       1239, 1273, 1307, 1344, 1380, 1412, 1446, 1482, 1518, 1552, 1587,\n",
       "       1623, 1662, 1695, 1727, 1770, 1830, 1867, 1902, 1936, 1971, 2009,\n",
       "       2043, 2081, 2116, 2147, 2181, 2220, 2255, 2287, 2321, 2357, 2396,\n",
       "       2431, 2464, 2498, 2537, 2599, 2637, 2674, 2708, 2743, 2779, 2813,\n",
       "       2847, 2883, 2919, 2951, 2988, 3022, 3061, 3092, 3128, 3162, 3197,\n",
       "       3234, 3273, 3308, 3374, 3409, 3445, 3480, 3515, 3550, 3587, 3621,\n",
       "       3658, 3692, 3727, 3764, 3798, 3834, 3869, 3906, 3940, 3975, 4011,\n",
       "       4047, 4082], dtype=int64)"
      ]
     },
     "execution_count": 16,
     "metadata": {},
     "output_type": "execute_result"
    }
   ],
   "source": [
    "peaks"
   ]
  },
  {
   "cell_type": "code",
   "execution_count": 17,
   "metadata": {},
   "outputs": [
    {
     "data": {
      "text/plain": [
       "array([ 260, 1029, 1800, 2568, 3341])"
      ]
     },
     "execution_count": 17,
     "metadata": {},
     "output_type": "execute_result"
    }
   ],
   "source": [
    "locations_barcode"
   ]
  },
  {
   "cell_type": "code",
   "execution_count": 18,
   "metadata": {},
   "outputs": [
    {
     "name": "stdout",
     "output_type": "stream",
     "text": [
      "Before: 7\n",
      "After: 21\n",
      "0\n",
      "21\n",
      "1\n",
      "21\n",
      "2\n",
      "21\n",
      "3\n",
      "21\n",
      "4\n",
      "adding after block\n",
      "21\n"
     ]
    }
   ],
   "source": [
    "num_barcodes = len(locations_barcode)\n",
    "channels = []\n",
    "\n",
    "# if 6 barcode regions are detected, grab the 5 blocks in between\n",
    "if num_barcodes ==6:\n",
    "    for i in range(1, num_barcodes):\n",
    "        print(i)\n",
    "        indices = np.where(np.logical_and(peaks > locations_barcode[i-1],\n",
    "                                         peaks < locations_barcode[i]))[0]\n",
    "        print(len(indices))\n",
    "        \n",
    "        channels.extend(list(peaks[indices]))\n",
    "    \n",
    "# if 5 are detected, check what you have before and after the first and last barcode\n",
    "# respectively\n",
    "elif num_barcodes == 5:\n",
    "    indices_before = np.where(peaks < locations_barcode[0])[0]\n",
    "    print(f\"Before: {len(indices_before)}\")\n",
    "    indices_after = np.where(peaks > locations_barcode[-1])[0]\n",
    "    print(f\"After: {len(indices_after)}\")\n",
    "    \n",
    "    # one of these is going to be 21 use that to cut out channels\n",
    "    if len(indices_before) == 21:\n",
    "        # do something\n",
    "        for i in range(0, num_barcodes):\n",
    "            print(i)\n",
    "            if (i == 0):\n",
    "                indices = np.where(peaks < locations_barcode[i])[0]\n",
    "            else:\n",
    "                indices = np.where(np.logical_and(peaks > locations_barcode[i-1],\n",
    "                                                  peaks < locations_barcode[i]))[0]\n",
    "            print(len(indices))\n",
    "            channels.extend(list(peaks[indices]))\n",
    "        \n",
    "    elif len(indices_after) == 21:\n",
    "        # do something\n",
    "        for i  in range(0, num_barcodes):\n",
    "            print(i)\n",
    "            if(i == num_barcodes - 1):\n",
    "                print(\"adding after block\")\n",
    "                indices = np.where(peaks > locations_barcode[i])[0]\n",
    "            else:\n",
    "                indices = np.where(np.logical_and(peaks > locations_barcode[i],\n",
    "                                                 peaks < locations_barcode[i+1]))[0]\n",
    "            print(len(indices))\n",
    "            channels.extend(list(peaks[indices]))\n",
    "            \n",
    "    else:\n",
    "        # if neither of these is 21, it is a bit hard to grab the end channels.\n",
    "        # safe to grab 4 blocks instead of 5.\n",
    "        for i in range(0, num_barcodes):\n",
    "            print(i)\n",
    "            indices = np.where(np.logical_and(peaks > lcoations_barcode[i],\n",
    "                                              peaks < locations_barcode[i+1]))[0]\n",
    "            print(len(indices))\n",
    "            channels.extend(list(peaks[indices]))\n",
    "else:\n",
    "    \n",
    "    print(\"Barcode detection failed .. bailing out for this position\")"
   ]
  },
  {
   "cell_type": "code",
   "execution_count": null,
   "metadata": {},
   "outputs": [],
   "source": []
  },
  {
   "cell_type": "code",
   "execution_count": 19,
   "metadata": {},
   "outputs": [
    {
     "data": {
      "text/plain": [
       "105"
      ]
     },
     "execution_count": 19,
     "metadata": {},
     "output_type": "execute_result"
    }
   ],
   "source": [
    "len(channels)"
   ]
  },
  {
   "cell_type": "code",
   "execution_count": null,
   "metadata": {},
   "outputs": [],
   "source": []
  },
  {
   "cell_type": "code",
   "execution_count": null,
   "metadata": {},
   "outputs": [],
   "source": []
  },
  {
   "cell_type": "code",
   "execution_count": 28,
   "metadata": {},
   "outputs": [
    {
     "data": {
      "text/plain": [
       "array([ 112,  892, 1658, 2424, 3200, 3991])"
      ]
     },
     "execution_count": 28,
     "metadata": {},
     "output_type": "execute_result"
    }
   ],
   "source": [
    "locations_barcode"
   ]
  },
  {
   "cell_type": "code",
   "execution_count": 29,
   "metadata": {},
   "outputs": [
    {
     "data": {
      "text/plain": [
       "array([  10,   42,   76,  149,  187,  222,  254,  292,  327,  365,  396,\n",
       "        433,  469,  505,  541,  575,  612,  648,  682,  716,  751,  787,\n",
       "        821,  858,  926,  959,  994, 1029, 1062, 1095, 1133, 1167, 1202,\n",
       "       1235, 1271, 1305, 1342, 1374, 1410, 1443, 1479, 1515, 1548, 1583,\n",
       "       1627, 1689, 1723, 1758, 1794, 1827, 1863, 1899, 1934, 1970, 2003,\n",
       "       2038, 2074, 2107, 2143, 2178, 2212, 2247, 2283, 2319, 2351, 2390,\n",
       "       2459, 2495, 2529, 2567, 2599, 2635, 2673, 2703, 2742, 2779, 2809,\n",
       "       2846, 2883, 2918, 2950, 2988, 3022, 3059, 3093, 3136, 3165, 3236,\n",
       "       3270, 3307, 3341, 3377, 3416, 3451, 3487, 3521, 3557, 3591, 3628,\n",
       "       3662, 3700, 3740, 3773, 3807, 3845, 3879, 3917, 3955, 4027, 4062],\n",
       "      dtype=int64)"
      ]
     },
     "execution_count": 29,
     "metadata": {},
     "output_type": "execute_result"
    }
   ],
   "source": [
    "peaks"
   ]
  },
  {
   "cell_type": "code",
   "execution_count": 35,
   "metadata": {},
   "outputs": [],
   "source": [
    "ans = np.where(np.logical_and(peaks < locations_barcode[1], peaks > locations_barcode[0]))[0]"
   ]
  },
  {
   "cell_type": "code",
   "execution_count": 36,
   "metadata": {},
   "outputs": [
    {
     "data": {
      "text/plain": [
       "array([149, 187, 222, 254, 292, 327, 365, 396, 433, 469, 505, 541, 575,\n",
       "       612, 648, 682, 716, 751, 787, 821, 858], dtype=int64)"
      ]
     },
     "execution_count": 36,
     "metadata": {},
     "output_type": "execute_result"
    }
   ],
   "source": [
    "peaks[ans]"
   ]
  },
  {
   "cell_type": "code",
   "execution_count": null,
   "metadata": {},
   "outputs": [],
   "source": []
  },
  {
   "cell_type": "code",
   "execution_count": null,
   "metadata": {},
   "outputs": [],
   "source": []
  },
  {
   "cell_type": "code",
   "execution_count": 27,
   "metadata": {},
   "outputs": [
    {
     "name": "stdout",
     "output_type": "stream",
     "text": [
      "9\n",
      "103\n",
      "----\n",
      "30\n",
      "82\n",
      "----\n",
      "51\n",
      "61\n",
      "----\n",
      "72\n",
      "40\n",
      "----\n",
      "93\n",
      "19\n",
      "----\n"
     ]
    }
   ],
   "source": [
    "for i, location in enumerate(locations_barcode, 0):\n",
    "    print(np.sum(peaks < locations_barcode[i]))\n",
    "    print(np.sum(peaks > locations_barcode[i]))\n",
    "    print(\"----\")"
   ]
  },
  {
   "cell_type": "code",
   "execution_count": 28,
   "metadata": {},
   "outputs": [
    {
     "data": {
      "text/plain": [
       "array([  13,   50,   85,  119,  158,  191,  229,  261,  302,  366,  402,\n",
       "        438,  476,  511,  547,  579,  619,  655,  689,  721,  757,  795,\n",
       "        831,  863,  898,  932,  966, 1000, 1034, 1070, 1136, 1174, 1209,\n",
       "       1247, 1283, 1314, 1349, 1383, 1418, 1457, 1493, 1527, 1561, 1597,\n",
       "       1631, 1663, 1697, 1733, 1772, 1803, 1841, 1906, 1942, 1977, 2014,\n",
       "       2049, 2085, 2121, 2155, 2188, 2220, 2257, 2294, 2328, 2365, 2399,\n",
       "       2434, 2468, 2503, 2538, 2572, 2611, 2676, 2712, 2747, 2783, 2817,\n",
       "       2851, 2887, 2923, 2957, 2993, 3028, 3063, 3097, 3131, 3168, 3203,\n",
       "       3238, 3273, 3308, 3346, 3382, 3449, 3484, 3520, 3555, 3590, 3625,\n",
       "       3660, 3697, 3732, 3767, 3804, 3837, 3873, 3909, 3944, 3981, 4015,\n",
       "       4051, 4085], dtype=int64)"
      ]
     },
     "execution_count": 28,
     "metadata": {},
     "output_type": "execute_result"
    }
   ],
   "source": [
    "peaks"
   ]
  },
  {
   "cell_type": "code",
   "execution_count": null,
   "metadata": {},
   "outputs": [],
   "source": []
  },
  {
   "cell_type": "code",
   "execution_count": null,
   "metadata": {},
   "outputs": [],
   "source": []
  },
  {
   "cell_type": "code",
   "execution_count": 20,
   "metadata": {},
   "outputs": [
    {
     "data": {
      "text/plain": [
       "<matplotlib.image.AxesImage at 0x26b213fdf70>"
      ]
     },
     "execution_count": 20,
     "metadata": {},
     "output_type": "execute_result"
    }
   ],
   "source": [
    "plt.imshow(mask_img)"
   ]
  },
  {
   "cell_type": "code",
   "execution_count": 10,
   "metadata": {},
   "outputs": [
    {
     "data": {
      "text/plain": [
       "<matplotlib.image.AxesImage at 0x136b281cd00>"
      ]
     },
     "execution_count": 10,
     "metadata": {},
     "output_type": "execute_result"
    }
   ],
   "source": [
    "plt.imshow(mask_img)"
   ]
  },
  {
   "cell_type": "markdown",
   "metadata": {},
   "source": [
    "### Generating histograms to cut channels and blocks"
   ]
  },
  {
   "cell_type": "code",
   "execution_count": null,
   "metadata": {},
   "outputs": [],
   "source": []
  },
  {
   "cell_type": "code",
   "execution_count": 65,
   "metadata": {},
   "outputs": [],
   "source": [
    "def getAllBarcodes(mask_img, phase_image, minPeaksDistance=25, barcodeWidth=48,\n",
    "                   minChannelLength=100, rowThreshold=10000,\n",
    "                   plot=False):\n",
    "    hist = np.sum(mask_img, axis = 0) > minChannelLength\n",
    "    peaks, _ = find_peaks(hist, distance = minPeaksDistance)\n",
    "    indices_with_larger_gaps = np.where(np.ediff1d(peaks) > barcodeWidth)[0]\n",
    "    \n",
    "    locations_before_barcode = peaks[indices_with_larger_gaps]\n",
    "    locations_after_barcode = peaks[indices_with_larger_gaps + 1]\n",
    "    \n",
    "    # take the mean to obtain approximate center of the barcode region\n",
    "    \n",
    "    locations_barcode = np.rint(np.mean((locations_before_barcode,\n",
    "                                        locations_after_barcode), axis=0)).astype('int')\n",
    "    \n",
    "    # now grab all the barcode images\n",
    "    # we get the column numbers from the locations_barcode\n",
    "    # but we need to find the row numbers, somehow. \n",
    "    # We use the same histogram and sum and threshold \n",
    "    sum_rows = np.sum(mask_img, axis = 1).astype('int')\n",
    "    row_locations = np.argwhere(np.diff(np.sign(sum_rows - rowThreshold))).flatten()\n",
    "    if len(row_locations) !=2:\n",
    "        row_x1 = 400\n",
    "        row_x2 = 1200\n",
    "    else:\n",
    "        row_x1 = row_locations[0]\n",
    "        row_x2 = row_locations[1]\n",
    "    # on 40x the channels size will be approximately.\n",
    "    \n",
    "    barcode_images = []\n",
    "    for location in locations_barcode:\n",
    "        barcode_img = phase_img[row_x1:row_x2, location-barcodeWidth//2 : location+barcodeWidth//2]\n",
    "        barcode_images.append(barcode_img)\n",
    "        \n",
    "    if plot:\n",
    "        plt.figure(figsize=(16,5))\n",
    "        plt.plot(hist)\n",
    "        plt.plot(peaks, hist[peaks],'r*')\n",
    "        plt.plot(locations_before_barcode, hist[locations_before_barcode], 'k*')\n",
    "        plt.plot(locations_after_barcode, hist[locations_after_barcode], 'g*')\n",
    "        plt.show()\n",
    "    return locations_barcode, barcode_images\n",
    "\n",
    "def getAllChannels():\n",
    "    pass"
   ]
  },
  {
   "cell_type": "code",
   "execution_count": 66,
   "metadata": {},
   "outputs": [],
   "source": [
    "locations_barcode, barcode_images = getAllBarcodes(mask_img, phase_img, plot=True)"
   ]
  },
  {
   "cell_type": "code",
   "execution_count": 69,
   "metadata": {},
   "outputs": [
    {
     "data": {
      "text/plain": [
       "<matplotlib.image.AxesImage at 0x136ba5c2a00>"
      ]
     },
     "execution_count": 69,
     "metadata": {},
     "output_type": "execute_result"
    }
   ],
   "source": [
    "plt.imshow(barcode_images[2])"
   ]
  },
  {
   "cell_type": "code",
   "execution_count": null,
   "metadata": {},
   "outputs": [],
   "source": []
  }
 ],
 "metadata": {
  "kernelspec": {
   "display_name": "Python 3",
   "language": "python",
   "name": "python3"
  },
  "language_info": {
   "codemirror_mode": {
    "name": "ipython",
    "version": 3
   },
   "file_extension": ".py",
   "mimetype": "text/x-python",
   "name": "python",
   "nbconvert_exporter": "python",
   "pygments_lexer": "ipython3",
   "version": "3.9.2"
  }
 },
 "nbformat": 4,
 "nbformat_minor": 2
}
