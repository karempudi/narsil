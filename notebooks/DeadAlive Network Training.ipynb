{
 "cells": [
  {
   "cell_type": "code",
   "execution_count": 1,
   "metadata": {},
   "outputs": [],
   "source": [
    "%reload_ext autoreload\n",
    "%autoreload 2\n",
    "%matplotlib qt5"
   ]
  },
  {
   "cell_type": "code",
   "execution_count": 2,
   "metadata": {},
   "outputs": [],
   "source": [
    "import numpy as np\n",
    "import torch\n",
    "import matplotlib.pyplot as plt\n",
    "import torch.nn as nn\n",
    "import torch.nn.functional as F\n",
    "import torch.optim as optim"
   ]
  },
  {
   "cell_type": "code",
   "execution_count": 3,
   "metadata": {},
   "outputs": [],
   "source": [
    "from narsil.deadalive.datasets import channelStackTrain\n",
    "from narsil.deadalive.modelDev import trainDeadAliveNet"
   ]
  },
  {
   "cell_type": "code",
   "execution_count": 4,
   "metadata": {},
   "outputs": [],
   "source": [
    "phaseDirectoriesList = ['/home/pk/Documents/trainingData/deadalive/0/','/home/pk/Documents/trainingData/deadalive/1/' ]"
   ]
  },
  {
   "cell_type": "code",
   "execution_count": 5,
   "metadata": {},
   "outputs": [
    {
     "data": {
      "text/plain": [
       "['/home/pk/Documents/trainingData/deadalive/0/',\n",
       " '/home/pk/Documents/trainingData/deadalive/1/']"
      ]
     },
     "execution_count": 5,
     "metadata": {},
     "output_type": "execute_result"
    }
   ],
   "source": [
    "phaseDirectoriesList"
   ]
  },
  {
   "cell_type": "code",
   "execution_count": 6,
   "metadata": {},
   "outputs": [],
   "source": [
    "dataset = channelStackTrain(phaseDirectoriesList, numUnrolls=1, fileformat='.tif')"
   ]
  },
  {
   "cell_type": "code",
   "execution_count": 7,
   "metadata": {},
   "outputs": [
    {
     "data": {
      "text/plain": [
       "80"
      ]
     },
     "execution_count": 7,
     "metadata": {},
     "output_type": "execute_result"
    }
   ],
   "source": [
    "len(dataset)"
   ]
  },
  {
   "cell_type": "code",
   "execution_count": 8,
   "metadata": {},
   "outputs": [],
   "source": [
    "modelParameters = {\n",
    "    'device': \"cuda:1\"\n",
    "}\n",
    "\n",
    "optimizationParameters = {\n",
    "    'learning_rate': 05.e-5,\n",
    "    'nEpochs': 30\n",
    "}"
   ]
  },
  {
   "cell_type": "code",
   "execution_count": 9,
   "metadata": {},
   "outputs": [],
   "source": [
    "net = trainDeadAliveNet(phaseDirectoriesList, modelParameters, optimizationParameters, fileformat='.tif')"
   ]
  },
  {
   "cell_type": "code",
   "execution_count": 10,
   "metadata": {},
   "outputs": [
    {
     "name": "stdout",
     "output_type": "stream",
     "text": [
      "Epoch 0 -- started\n",
      "Epoch average loss: 0.4425659987788934\n",
      "Epoch 1 -- started\n",
      "Epoch average loss: 0.40540279649399424\n",
      "Epoch 2 -- started\n",
      "Epoch average loss: 0.3279411458485835\n",
      "Epoch 3 -- started\n",
      "Epoch average loss: 0.18001088505057064\n",
      "Epoch 4 -- started\n",
      "Epoch average loss: 0.12704484562414722\n",
      "Epoch 5 -- started\n",
      "Epoch average loss: 0.10473308458018142\n",
      "Epoch 6 -- started\n",
      "Epoch average loss: 0.06909080431167339\n",
      "Epoch 7 -- started\n",
      "Epoch average loss: 0.05410328609365467\n",
      "Epoch 8 -- started\n",
      "Epoch average loss: 0.06821477080921869\n",
      "Epoch 9 -- started\n",
      "Epoch average loss: 0.03358250736837854\n",
      "Epoch 10 -- started\n",
      "Epoch average loss: 0.025752111765983944\n",
      "Epoch 11 -- started\n",
      "Epoch average loss: 0.021131443618131535\n",
      "Epoch 12 -- started\n",
      "Epoch average loss: 0.007749343177835856\n",
      "Epoch 13 -- started\n",
      "Epoch average loss: 0.005255119718744286\n",
      "Epoch 14 -- started\n",
      "Epoch average loss: 0.0037248849336590085\n",
      "Epoch 15 -- started\n",
      "Epoch average loss: 0.003002107871829399\n",
      "Epoch 16 -- started\n",
      "Epoch average loss: 0.0025295368562053356\n",
      "Epoch 17 -- started\n",
      "Epoch average loss: 0.0023201833412583384\n",
      "Epoch 18 -- started\n",
      "Epoch average loss: 0.0020472115421268557\n",
      "Epoch 19 -- started\n",
      "Epoch average loss: 0.0018570569027880474\n",
      "Epoch 20 -- started\n",
      "Epoch average loss: 0.0016934373798514052\n",
      "Epoch 21 -- started\n",
      "Epoch average loss: 0.0014553620942134523\n",
      "Epoch 22 -- started\n",
      "Epoch average loss: 0.0013508078753313218\n",
      "Epoch 23 -- started\n",
      "Epoch average loss: 0.0012820400950273104\n",
      "Epoch 24 -- started\n",
      "Epoch average loss: 0.0012063998076359205\n",
      "Epoch 25 -- started\n",
      "Epoch average loss: 0.0011504985926545817\n",
      "Epoch 26 -- started\n",
      "Epoch average loss: 0.0010982386099358062\n",
      "Epoch 27 -- started\n",
      "Epoch average loss: 0.0010517300000752914\n",
      "Epoch 28 -- started\n",
      "Epoch average loss: 0.0010346277320588176\n",
      "Epoch 29 -- started\n",
      "Epoch average loss: 0.04692830560750074\n"
     ]
    }
   ],
   "source": [
    "net.train()"
   ]
  },
  {
   "cell_type": "code",
   "execution_count": null,
   "metadata": {},
   "outputs": [],
   "source": []
  }
 ],
 "metadata": {
  "kernelspec": {
   "display_name": "Python 3 (ipykernel)",
   "language": "python",
   "name": "python3"
  },
  "language_info": {
   "codemirror_mode": {
    "name": "ipython",
    "version": 3
   },
   "file_extension": ".py",
   "mimetype": "text/x-python",
   "name": "python",
   "nbconvert_exporter": "python",
   "pygments_lexer": "ipython3",
   "version": "3.9.7"
  }
 },
 "nbformat": 4,
 "nbformat_minor": 2
}
