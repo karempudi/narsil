{
 "cells": [
  {
   "cell_type": "code",
   "execution_count": 1,
   "metadata": {},
   "outputs": [],
   "source": [
    "%reload_ext autoreload\n",
    "%autoreload 2\n",
    "%matplotlib qt5"
   ]
  },
  {
   "cell_type": "code",
   "execution_count": 2,
   "metadata": {},
   "outputs": [],
   "source": [
    "import numpy as np\n",
    "import torch\n",
    "import matplotlib.pyplot as plt\n",
    "import torch.nn as nn\n",
    "import torch.nn.functional as F\n",
    "import torch.optim as optim"
   ]
  },
  {
   "cell_type": "code",
   "execution_count": 3,
   "metadata": {},
   "outputs": [],
   "source": [
    "from narsil.deadalive.datasets import channelStackTrain\n",
    "from narsil.deadalive.modelDev import trainDeadAliveNet"
   ]
  },
  {
   "cell_type": "code",
   "execution_count": 4,
   "metadata": {},
   "outputs": [],
   "source": [
    "phaseDirectoriesList = ['/home/pk/Documents/trainingData/deadalive/0/','/home/pk/Documents/trainingData/deadalive/1/' ]"
   ]
  },
  {
   "cell_type": "code",
   "execution_count": 5,
   "metadata": {},
   "outputs": [
    {
     "data": {
      "text/plain": [
       "['/home/pk/Documents/trainingData/deadalive/0/',\n",
       " '/home/pk/Documents/trainingData/deadalive/1/']"
      ]
     },
     "execution_count": 5,
     "metadata": {},
     "output_type": "execute_result"
    }
   ],
   "source": [
    "phaseDirectoriesList"
   ]
  },
  {
   "cell_type": "code",
   "execution_count": 6,
   "metadata": {},
   "outputs": [],
   "source": [
    "dataset = channelStackTrain(phaseDirectoriesList, numUnrolls=1, fileformat='.tif')"
   ]
  },
  {
   "cell_type": "code",
   "execution_count": 7,
   "metadata": {},
   "outputs": [
    {
     "data": {
      "text/plain": [
       "80"
      ]
     },
     "execution_count": 7,
     "metadata": {},
     "output_type": "execute_result"
    }
   ],
   "source": [
    "len(dataset)"
   ]
  },
  {
   "cell_type": "code",
   "execution_count": 8,
   "metadata": {},
   "outputs": [],
   "source": [
    "modelParameters = {\n",
    "    'device': \"cuda:1\"\n",
    "}\n",
    "optimizationParameters = {\n",
    "    'learning_rate': 0.5e-5,\n",
    "    'nEpochs': 100\n",
    "}"
   ]
  },
  {
   "cell_type": "code",
   "execution_count": 9,
   "metadata": {},
   "outputs": [],
   "source": [
    "net = trainDeadAliveNet(phaseDirectoriesList, modelParameters, optimizationParameters, fileformat='.tif')"
   ]
  },
  {
   "cell_type": "code",
   "execution_count": 13,
   "metadata": {},
   "outputs": [
    {
     "name": "stdout",
     "output_type": "stream",
     "text": [
      "Epoch 0 -- started\n",
      "Epoch average loss: 0.15325021594762803\n",
      "Epoch 1 -- started\n",
      "Epoch average loss: 0.1096721351146698\n",
      "Epoch 2 -- started\n",
      "Epoch average loss: 0.11148410886526108\n",
      "Epoch 3 -- started\n",
      "Epoch average loss: 0.10040972828865051\n",
      "Epoch 4 -- started\n",
      "Epoch average loss: 0.09695472568273544\n",
      "Epoch 5 -- started\n",
      "Epoch average loss: 0.09909523427486419\n",
      "Epoch 6 -- started\n",
      "Epoch average loss: 0.09453219920396805\n",
      "Epoch 7 -- started\n",
      "Epoch average loss: 0.09195844233036041\n",
      "Epoch 8 -- started\n",
      "Epoch average loss: 0.09463360160589218\n",
      "Epoch 9 -- started\n",
      "Epoch average loss: 0.09367366284132003\n",
      "Epoch 10 -- started\n",
      "Epoch average loss: 0.0925093412399292\n",
      "Epoch 11 -- started\n",
      "Epoch average loss: 0.09434753209352494\n",
      "Epoch 12 -- started\n",
      "Epoch average loss: 0.09306800067424774\n",
      "Epoch 13 -- started\n",
      "Epoch average loss: 0.09562535881996155\n",
      "Epoch 14 -- started\n",
      "Epoch average loss: 0.10037241280078887\n",
      "Epoch 15 -- started\n",
      "Epoch average loss: 0.10584187507629395\n",
      "Epoch 16 -- started\n",
      "Epoch average loss: 0.09625648856163024\n",
      "Epoch 17 -- started\n",
      "Epoch average loss: 0.09045737981796265\n",
      "Epoch 18 -- started\n",
      "Epoch average loss: 0.09388227015733719\n",
      "Epoch 19 -- started\n",
      "Epoch average loss: 0.0924113392829895\n",
      "Epoch 20 -- started\n",
      "Epoch average loss: 0.08980592638254166\n",
      "Epoch 21 -- started\n",
      "Epoch average loss: 0.07495343238115311\n",
      "Epoch 22 -- started\n",
      "Epoch average loss: 0.07853820994496345\n",
      "Epoch 23 -- started\n",
      "Epoch average loss: 0.07135899588465691\n",
      "Epoch 24 -- started\n",
      "Epoch average loss: 0.07198193222284317\n",
      "Epoch 25 -- started\n",
      "Epoch average loss: 0.07453950345516205\n",
      "Epoch 26 -- started\n",
      "Epoch average loss: 0.07154019996523857\n",
      "Epoch 27 -- started\n",
      "Epoch average loss: 0.06796311512589455\n",
      "Epoch 28 -- started\n",
      "Epoch average loss: 0.0672855667769909\n",
      "Epoch 29 -- started\n",
      "Epoch average loss: 0.06941899061203002\n",
      "Epoch 30 -- started\n",
      "Epoch average loss: 0.0730777770280838\n",
      "Epoch 31 -- started\n",
      "Epoch average loss: 0.0685605488717556\n",
      "Epoch 32 -- started\n",
      "Epoch average loss: 0.07038231939077377\n",
      "Epoch 33 -- started\n",
      "Epoch average loss: 0.06579076275229453\n",
      "Epoch 34 -- started\n",
      "Epoch average loss: 0.06625591367483138\n",
      "Epoch 35 -- started\n",
      "Epoch average loss: 0.07207902893424034\n",
      "Epoch 36 -- started\n",
      "Epoch average loss: 0.07038253173232079\n",
      "Epoch 37 -- started\n",
      "Epoch average loss: 0.07259512394666671\n",
      "Epoch 38 -- started\n",
      "Epoch average loss: 0.06856067478656769\n",
      "Epoch 39 -- started\n",
      "Epoch average loss: 0.07095287069678306\n",
      "Epoch 40 -- started\n",
      "Epoch average loss: 0.07005911692976952\n",
      "Epoch 41 -- started\n",
      "Epoch average loss: 0.06817694902420043\n",
      "Epoch 42 -- started\n",
      "Epoch average loss: 0.07978316098451614\n",
      "Epoch 43 -- started\n",
      "Epoch average loss: 0.12478392720222473\n",
      "Epoch 44 -- started\n",
      "Epoch average loss: 0.0776776947081089\n",
      "Epoch 45 -- started\n",
      "Epoch average loss: 0.0822545662522316\n",
      "Epoch 46 -- started\n",
      "Epoch average loss: 0.13623299300670624\n",
      "Epoch 47 -- started\n",
      "Epoch average loss: 0.09294828921556472\n",
      "Epoch 48 -- started\n",
      "Epoch average loss: 0.0857807606458664\n",
      "Epoch 49 -- started\n",
      "Epoch average loss: 0.06822066679596901\n",
      "Epoch 50 -- started\n",
      "Epoch average loss: 0.06776070594787598\n",
      "Epoch 51 -- started\n",
      "Epoch average loss: 0.06232103183865547\n",
      "Epoch 52 -- started\n",
      "Epoch average loss: 0.06544016450643539\n",
      "Epoch 53 -- started\n",
      "Epoch average loss: 0.0692647747695446\n",
      "Epoch 54 -- started\n",
      "Epoch average loss: 0.060074751079082486\n",
      "Epoch 55 -- started\n",
      "Epoch average loss: 0.057463467866182324\n",
      "Epoch 56 -- started\n",
      "Epoch average loss: 0.060164802521467206\n",
      "Epoch 57 -- started\n",
      "Epoch average loss: 0.05818078741431236\n",
      "Epoch 58 -- started\n",
      "Epoch average loss: 0.05639857575297356\n",
      "Epoch 59 -- started\n",
      "Epoch average loss: 0.060433230549097064\n",
      "Epoch 60 -- started\n",
      "Epoch average loss: 0.058781518042087554\n",
      "Epoch 61 -- started\n",
      "Epoch average loss: 0.059362989850342274\n",
      "Epoch 62 -- started\n",
      "Epoch average loss: 0.056803700514137745\n",
      "Epoch 63 -- started\n",
      "Epoch average loss: 0.056151109747588634\n",
      "Epoch 64 -- started\n",
      "Epoch average loss: 0.05431901849806309\n",
      "Epoch 65 -- started\n",
      "Epoch average loss: 0.053973883390426636\n",
      "Epoch 66 -- started\n",
      "Epoch average loss: 0.05427830293774605\n",
      "Epoch 67 -- started\n",
      "Epoch average loss: 0.05385016184300184\n",
      "Epoch 68 -- started\n",
      "Epoch average loss: 0.05086448322981596\n",
      "Epoch 69 -- started\n",
      "Epoch average loss: 0.051016414538025856\n",
      "Epoch 70 -- started\n",
      "Epoch average loss: 0.05094281118363142\n",
      "Epoch 71 -- started\n",
      "Epoch average loss: 0.05131437350064516\n",
      "Epoch 72 -- started\n",
      "Epoch average loss: 0.053243436850607395\n",
      "Epoch 73 -- started\n",
      "Epoch average loss: 0.05455936957150698\n",
      "Epoch 74 -- started\n",
      "Epoch average loss: 0.05244505126029253\n",
      "Epoch 75 -- started\n",
      "Epoch average loss: 0.05248296167701483\n",
      "Epoch 76 -- started\n",
      "Epoch average loss: 0.050335923209786415\n",
      "Epoch 77 -- started\n",
      "Epoch average loss: 0.0494014210999012\n",
      "Epoch 78 -- started\n",
      "Epoch average loss: 0.04935617558658123\n",
      "Epoch 79 -- started\n",
      "Epoch average loss: 0.049956681206822395\n",
      "Epoch 80 -- started\n",
      "Epoch average loss: 0.05615737661719322\n",
      "Epoch 81 -- started\n",
      "Epoch average loss: 0.048863623291254044\n",
      "Epoch 82 -- started\n",
      "Epoch average loss: 0.046871853061020374\n",
      "Epoch 83 -- started\n",
      "Epoch average loss: 0.046092135831713676\n",
      "Epoch 84 -- started\n",
      "Epoch average loss: 0.04515619669109583\n",
      "Epoch 85 -- started\n",
      "Epoch average loss: 0.045786045491695404\n",
      "Epoch 86 -- started\n",
      "Epoch average loss: 0.046304138377308846\n",
      "Epoch 87 -- started\n",
      "Epoch average loss: 0.04588518105447292\n",
      "Epoch 88 -- started\n",
      "Epoch average loss: 0.04530139360576868\n",
      "Epoch 89 -- started\n",
      "Epoch average loss: 0.046418385580182076\n",
      "Epoch 90 -- started\n",
      "Epoch average loss: 0.04813651833683252\n",
      "Epoch 91 -- started\n",
      "Epoch average loss: 0.04470819979906082\n",
      "Epoch 92 -- started\n",
      "Epoch average loss: 0.04762738570570946\n",
      "Epoch 93 -- started\n",
      "Epoch average loss: 0.050463263876736164\n",
      "Epoch 94 -- started\n",
      "Epoch average loss: 0.05380856338888407\n",
      "Epoch 95 -- started\n",
      "Epoch average loss: 0.05073457397520542\n",
      "Epoch 96 -- started\n",
      "Epoch average loss: 0.04986877180635929\n",
      "Epoch 97 -- started\n",
      "Epoch average loss: 0.04641815461218357\n",
      "Epoch 98 -- started\n",
      "Epoch average loss: 0.04287864547222853\n",
      "Epoch 99 -- started\n",
      "Epoch average loss: 0.04437540378421545\n"
     ]
    }
   ],
   "source": [
    "net.train()"
   ]
  },
  {
   "cell_type": "code",
   "execution_count": null,
   "metadata": {},
   "outputs": [],
   "source": []
  }
 ],
 "metadata": {
  "kernelspec": {
   "display_name": "Python 3 (ipykernel)",
   "language": "python",
   "name": "python3"
  },
  "language_info": {
   "codemirror_mode": {
    "name": "ipython",
    "version": 3
   },
   "file_extension": ".py",
   "mimetype": "text/x-python",
   "name": "python",
   "nbconvert_exporter": "python",
   "pygments_lexer": "ipython3",
   "version": "3.9.7"
  }
 },
 "nbformat": 4,
 "nbformat_minor": 2
}
